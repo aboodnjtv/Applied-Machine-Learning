{
  "cells": [
    {
      "cell_type": "code",
      "execution_count": null,
      "metadata": {
        "id": "2IlwhV0z2nMr"
      },
      "outputs": [],
      "source": [
        "%matplotlib inline"
      ]
    },
    {
      "cell_type": "markdown",
      "metadata": {
        "id": "Chprzdhe2nMw"
      },
      "source": [
        "# Assignment 5\n",
        "\n",
        "**DUE: Sunday December 5, 2021 11:59pm**\n",
        "\n",
        "Turn in the assignment via Canvas.\n",
        "\n",
        "To write legible answers you will need to be familiar with both [Markdown](https://github.com/adam-p/markdown-here/wiki/Markdown-Cheatsheet) and [Latex](https://www.latex-tutorial.com/tutorials/amsmath/)\n",
        "\n",
        "Before you turn this problem in, make sure everything runs as expected. First, restart the kernel (in the menubar, select Runtime→→Restart runtime) and then run all cells (in the menubar, select Runtime→→Run All).\n",
        "\n",
        "Make sure you fill in any place that says \"YOUR CODE HERE\" or \"YOUR ANSWER HERE\", as well as your name below:"
      ]
    },
    {
      "cell_type": "code",
      "execution_count": null,
      "metadata": {
        "id": "8jeWubXE2nMx"
      },
      "outputs": [],
      "source": [
        "NAME = \"Abdelrahman Alnajjar\"\n",
        "STUDENT_ID = \"*******\""
      ]
    },
    {
      "cell_type": "markdown",
      "metadata": {
        "id": "E-DjjESEyXnL"
      },
      "source": [
        "\n",
        "\n",
        "\n",
        "\n"
      ]
    },
    {
      "cell_type": "code",
      "execution_count": null,
      "metadata": {
        "id": "Bv1G7ixQvN8E"
      },
      "outputs": [],
      "source": [
        "import numpy as np\n",
        "import pandas as pd\n",
        "import matplotlib.pyplot as plt\n",
        "import seaborn as sns\n",
        "\n",
        "import tensorflow as tf\n",
        "\n",
        "from sklearn.metrics import accuracy_score, precision_score, recall_score\n",
        "from sklearn.model_selection import train_test_split\n",
        "from tensorflow.keras import layers, losses\n",
        "from tensorflow.keras.datasets import fashion_mnist\n",
        "from tensorflow.keras.models import Model"
      ]
    },
    {
      "cell_type": "markdown",
      "metadata": {
        "id": "Y32nQiJbSAwC"
      },
      "source": [
        "## Question 1: Bitcoin Price Prediction\n",
        "---\n",
        "Bitcoin, amongst other assets like AMC and GME, has been all the rage this past year and reached an all time high of \\$68,521 per bitcoin. Since reaching it's high, the price has dropped by nearly a half. Analysts continue to feed the frenzy by releasing price predictions that range from from \\$500,000 to \\$9,000 per bitcoin in the next year. You will make an Recurrent neural network model to gain some insight into price prediction. Yahoo! Finance is a trusted name in free financial information and has been with us since the internet's early years. You'll be using data gathered obtained from https://finance.yahoo.com/quote/BTC-USD/history/ to train your recurrent neural network.\n",
        "\n",
        "Run the following code cell to download the training and test data. It might take a while to download the zip file and extract it.\n",
        "\n",
        "Link to the raw data: [link](https://drive.google.com/file/d/1IvrXXUDB_kO4ydZb-lwtVF9BLccDtdJP/view?usp=sharing)"
      ]
    },
    {
      "cell_type": "code",
      "execution_count": null,
      "metadata": {
        "id": "iExiItBkdS8F"
      },
      "outputs": [],
      "source": [
        "from pydrive.auth import GoogleAuth\n",
        "from pydrive.drive import GoogleDrive\n",
        "from google.colab import auth\n",
        "from oauth2client.client import GoogleCredentials\n",
        "import io\n",
        "import zipfile\n",
        "auth.authenticate_user()\n",
        "gauth = GoogleAuth()\n",
        "gauth.credentials = GoogleCredentials.get_application_default()\n",
        "drive = GoogleDrive(gauth)\n",
        "file_id = '1IvrXXUDB_kO4ydZb-lwtVF9BLccDtdJP'\n",
        "downloaded = drive.CreateFile({'id': file_id})\n",
        "downloaded.GetContentFile('BTC-USD.csv')\n"
      ]
    },
    {
      "cell_type": "code",
      "execution_count": null,
      "metadata": {
        "id": "_ab-5H8XVOVi"
      },
      "outputs": [],
      "source": [
        "# Create pandas dataframe\n",
        "data = pd.read_csv('BTC-USD.csv')"
      ]
    },
    {
      "cell_type": "code",
      "execution_count": null,
      "metadata": {
        "colab": {
          "base_uri": "https://localhost:8080/",
          "height": 206
        },
        "id": "8W_KrGElWT0y",
        "outputId": "759c0d17-c644-4400-b5e6-bdcad183c930"
      },
      "outputs": [
        {
          "data": {
            "text/html": [
              "<div>\n",
              "<style scoped>\n",
              "    .dataframe tbody tr th:only-of-type {\n",
              "        vertical-align: middle;\n",
              "    }\n",
              "\n",
              "    .dataframe tbody tr th {\n",
              "        vertical-align: top;\n",
              "    }\n",
              "\n",
              "    .dataframe thead th {\n",
              "        text-align: right;\n",
              "    }\n",
              "</style>\n",
              "<table border=\"1\" class=\"dataframe\">\n",
              "  <thead>\n",
              "    <tr style=\"text-align: right;\">\n",
              "      <th></th>\n",
              "      <th>Date</th>\n",
              "      <th>Open</th>\n",
              "      <th>High</th>\n",
              "      <th>Low</th>\n",
              "      <th>Close</th>\n",
              "      <th>Adj Close</th>\n",
              "      <th>Volume</th>\n",
              "    </tr>\n",
              "  </thead>\n",
              "  <tbody>\n",
              "    <tr>\n",
              "      <th>0</th>\n",
              "      <td>2014-09-17</td>\n",
              "      <td>465.864014</td>\n",
              "      <td>468.174011</td>\n",
              "      <td>452.421997</td>\n",
              "      <td>457.334015</td>\n",
              "      <td>457.334015</td>\n",
              "      <td>21056800.0</td>\n",
              "    </tr>\n",
              "    <tr>\n",
              "      <th>1</th>\n",
              "      <td>2014-09-18</td>\n",
              "      <td>456.859985</td>\n",
              "      <td>456.859985</td>\n",
              "      <td>413.104004</td>\n",
              "      <td>424.440002</td>\n",
              "      <td>424.440002</td>\n",
              "      <td>34483200.0</td>\n",
              "    </tr>\n",
              "    <tr>\n",
              "      <th>2</th>\n",
              "      <td>2014-09-19</td>\n",
              "      <td>424.102997</td>\n",
              "      <td>427.834991</td>\n",
              "      <td>384.532013</td>\n",
              "      <td>394.795990</td>\n",
              "      <td>394.795990</td>\n",
              "      <td>37919700.0</td>\n",
              "    </tr>\n",
              "    <tr>\n",
              "      <th>3</th>\n",
              "      <td>2014-09-20</td>\n",
              "      <td>394.673004</td>\n",
              "      <td>423.295990</td>\n",
              "      <td>389.882996</td>\n",
              "      <td>408.903992</td>\n",
              "      <td>408.903992</td>\n",
              "      <td>36863600.0</td>\n",
              "    </tr>\n",
              "    <tr>\n",
              "      <th>4</th>\n",
              "      <td>2014-09-21</td>\n",
              "      <td>408.084991</td>\n",
              "      <td>412.425995</td>\n",
              "      <td>393.181000</td>\n",
              "      <td>398.821014</td>\n",
              "      <td>398.821014</td>\n",
              "      <td>26580100.0</td>\n",
              "    </tr>\n",
              "  </tbody>\n",
              "</table>\n",
              "</div>"
            ],
            "text/plain": [
              "         Date        Open        High  ...       Close   Adj Close      Volume\n",
              "0  2014-09-17  465.864014  468.174011  ...  457.334015  457.334015  21056800.0\n",
              "1  2014-09-18  456.859985  456.859985  ...  424.440002  424.440002  34483200.0\n",
              "2  2014-09-19  424.102997  427.834991  ...  394.795990  394.795990  37919700.0\n",
              "3  2014-09-20  394.673004  423.295990  ...  408.903992  408.903992  36863600.0\n",
              "4  2014-09-21  408.084991  412.425995  ...  398.821014  398.821014  26580100.0\n",
              "\n",
              "[5 rows x 7 columns]"
            ]
          },
          "execution_count": 6,
          "metadata": {},
          "output_type": "execute_result"
        }
      ],
      "source": [
        "# Plot data.head()\n",
        "data.head()"
      ]
    },
    {
      "cell_type": "markdown",
      "metadata": {
        "id": "x0UzN1BASfgD"
      },
      "source": [
        "Let's plot the bitcoin price. First, we will make a plot of bitcoin price vs the days after September 15, 2014, the start date of this dataset. Day \"0\" indicates September 15, 2014."
      ]
    },
    {
      "cell_type": "code",
      "execution_count": null,
      "metadata": {
        "colab": {
          "base_uri": "https://localhost:8080/",
          "height": 265
        },
        "id": "UjcXKOtg6jb5",
        "outputId": "b749d898-0e85-4f31-dcf7-7b16c5545dea"
      },
      "outputs": [
        {
          "data": {
            "image/png": "[encoded data removed]",
            "text/plain": [
              "<Figure size 432x288 with 1 Axes>"
            ]
          },
          "metadata": {
            "needs_background": "light"
          },
          "output_type": "display_data"
        }
      ],
      "source": [
        "import matplotlib.pyplot as plt\n",
        "import seaborn as sns # Used for plotting\n",
        "\n",
        "g = sns.lineplot(x = np.linspace(1,2622,2622), y = data['High'].values.reshape(-1))\n"
      ]
    },
    {
      "cell_type": "markdown",
      "metadata": {
        "id": "Upn-QIHf6mwa"
      },
      "source": [
        "Next, we plot bitcoin vs. days. But this time there are dates added to the graph."
      ]
    },
    {
      "cell_type": "code",
      "execution_count": null,
      "metadata": {
        "colab": {
          "base_uri": "https://localhost:8080/",
          "height": 519
        },
        "id": "qaUQJVYCSc-S",
        "outputId": "53312c1b-4f80-465f-df87-cbed34566ed4"
      },
      "outputs": [
        {
          "data": {
            "text/plain": [
              "[Text(0, 0, '2014-09-17'),\n",
              " Text(0, 0, '2015-04-05'),\n",
              " Text(0, 0, '2015-10-22'),\n",
              " Text(0, 0, '2016-05-09'),\n",
              " Text(0, 0, '2016-11-25'),\n",
              " Text(0, 0, '2017-06-13'),\n",
              " Text(0, 0, '2017-12-30'),\n",
              " Text(0, 0, '2018-07-18'),\n",
              " Text(0, 0, '2019-02-03'),\n",
              " Text(0, 0, '2019-08-22'),\n",
              " Text(0, 0, '2020-03-09'),\n",
              " Text(0, 0, '2020-09-25'),\n",
              " Text(0, 0, '2021-04-13')]"
            ]
          },
          "execution_count": 8,
          "metadata": {},
          "output_type": "execute_result"
        },
        {
          "data": {
            "image/png": "[encoded data removed]",
            "text/plain": [
              "<Figure size 432x288 with 1 Axes>"
            ]
          },
          "metadata": {
            "needs_background": "light"
          },
          "output_type": "display_data"
        }
      ],
      "source": [
        "import matplotlib.pyplot as plt\n",
        "import seaborn as sns # Used for plotting\n",
        "\n",
        "g = sns.lineplot(x = np.linspace(1,2622,2622), y = data['High'].values.reshape(-1))\n",
        "#g.map(plt.plot, \"a\", \"v\", marker=\"o\")\n",
        "g.set(xticks=np.arange(0,2500,200))\n",
        "g.set_xticklabels(rotation=30, labels = data['Date'][0::200])"
      ]
    },
    {
      "cell_type": "markdown",
      "metadata": {
        "id": "DHC5nm2AMwT4"
      },
      "source": [
        "### Part a) Data Preprocessing (5 points)\n",
        "In this section you will preprocess the in order to train a recurrent neural network. We can see that there 5 columns, \"Date\", \"Open\", \"High\", \"Low\", \"Close\", \"Adjusted Close\", and \"Volume\". We will only use the High column."
      ]
    },
    {
      "cell_type": "code",
      "execution_count": null,
      "metadata": {
        "id": "mhTJ8iATNFlC"
      },
      "outputs": [],
      "source": [
        "# Create a dataframe that only contains High Column.\n",
        "# Hint: it may be helpful to now cast your pruned dataframe to a numpy array.\n",
        "# for spliting the data to be used \n",
        "data_training = data[data['Date']< '2020-01-01'].copy()\n",
        "data_test = data[data['Date']< '2020-01-01'].copy()\n",
        "data_high = data_training.drop(['Date', 'Adj Close','Open','Low','Close','Volume'], axis = 1)\n"
      ]
    },
    {
      "cell_type": "markdown",
      "metadata": {
        "id": "JJ6wmmb2DJnE"
      },
      "source": [
        "\n",
        "Recall [MinMaxScaler](https://scikit-learn.org/stable/modules/generated/sklearn.preprocessing.MinMaxScaler.html) from sklearn. Use it to scale the data for our analysis. "
      ]
    },
    {
      "cell_type": "code",
      "execution_count": null,
      "metadata": {
        "colab": {
          "base_uri": "https://localhost:8080/"
        },
        "id": "4FXLabvyCEN_",
        "outputId": "cab5cf91-b7e1-42bf-ca9e-9d3a491e1147"
      },
      "outputs": [
        {
          "data": {
            "text/plain": [
              "array([[0.01290132],\n",
              "       [0.01233213],\n",
              "       [0.01087192],\n",
              "       ...,\n",
              "       [0.36736522],\n",
              "       [0.36439076],\n",
              "       [0.35837715]])"
            ]
          },
          "execution_count": 10,
          "metadata": {},
          "output_type": "execute_result"
        }
      ],
      "source": [
        "### YOUR CODE HERE ###\n",
        "from sklearn.preprocessing import MinMaxScaler\n",
        "\n",
        "\n",
        "scaler = MinMaxScaler()\n",
        "#data_high= data_high.reshape(-1, 1)\n",
        "data_normalized = scaler.fit_transform(data_high)\n",
        "data_normalized\n",
        "\n",
        "\n"
      ]
    },
    {
      "cell_type": "markdown",
      "metadata": {
        "id": "Dqq2K_UpNnrX"
      },
      "source": [
        "You will implement a simple autoregressive recurrent neural network using the standard tensorflow RNN architectures. An autoregressive model originates from the literature on time-series models where observations from the previous time-steps are used to predict the value at the current time step. To implemement an autoregressive model, we will simply augment the data so that \"time_steps\" number of previous days are fed to the model at the current time step in order to form a prediction. The function to augment the data is given to you:"
      ]
    },
    {
      "cell_type": "code",
      "execution_count": null,
      "metadata": {
        "id": "jtz4UhmUNngP"
      },
      "outputs": [],
      "source": [
        "\n",
        "def create_dataset(dataset, time_steps=1):\n",
        "    \"\"\"\n",
        "    Generate a dataset where the time series X[n] contains the readings for the 'time_step' previous days \n",
        "    and y contains the price for today.\n",
        "    args:\n",
        "    dataset: numpy array, the data\n",
        "    time_steps: the number of previous days to feed to RNN\n",
        "\n",
        "    returns:\n",
        "    tuple: a dataset with x[i] containing 'time_step' number of previous prices, target price for x[i]\n",
        "    \"\"\"\n",
        "    dataX, dataY = [],[]\n",
        "    for i in range(len(dataset)-time_steps-1):\n",
        "        a = dataset[i:(i+time_steps)]\n",
        "        dataX.append(a)\n",
        "        dataY.append(dataset[i + time_steps])\n",
        "    return np.array(dataX), np.array(dataY)"
      ]
    },
    {
      "cell_type": "code",
      "execution_count": null,
      "metadata": {
        "colab": {
          "base_uri": "https://localhost:8080/"
        },
        "id": "GtUFvFWuNmiQ",
        "outputId": "dc5d8e09-9b51-4272-ac5a-8d08dde93120"
      },
      "outputs": [
        {
          "data": {
            "text/plain": [
              "(1872, 60, 1)"
            ]
          },
          "execution_count": 14,
          "metadata": {},
          "output_type": "execute_result"
        }
      ],
      "source": [
        "# Choose the number of time steps that the model \"looks back\"\n",
        "time_steps = 60\n",
        "\n",
        "X_train = [] \n",
        "y_train = []\n",
        "\n",
        "\n",
        "\n",
        "# Produce your dataset based on the number of days the model could look back\n",
        "for i in range(60, data_normalized.shape[0]):\n",
        " X_train.append(data_normalized[i-60:i])\n",
        " y_train.append(data_normalized[i,0])\n",
        "X_train, Y_train = np.array(X_train), np.array(y_train)\n",
        "X_train.shape\n",
        "\n",
        "# or could be done using the function create_dataset"
      ]
    },
    {
      "cell_type": "markdown",
      "metadata": {
        "id": "MBKjptQ4Sa7O"
      },
      "source": [
        "### Part b) Data Partitioning (5 points)\n",
        "Split data into train and test sets. Use 80\\% for training and 20\\% for testing. **Note**: you need to split the data in time (the begining 80\\% of the days from start date will be the training data and the remaining 20\\% will be test data)."
      ]
    },
    {
      "cell_type": "code",
      "execution_count": null,
      "metadata": {
        "id": "q-lwp69bNn-v"
      },
      "outputs": [],
      "source": [
        "### YOUR CODE HERE ###\n",
        "X_test = data_test"
      ]
    },
    {
      "cell_type": "markdown",
      "metadata": {
        "id": "XT5ychZQTh_R"
      },
      "source": [
        "### Part c) RNN Model (15 points)\n",
        "In this part you will create a model using an RNN layer (LSTM or GRU, unidirectional or bidirectional) and train it on your training data. You will also plot training and validation loss. Use mean squared error as your model's metric."
      ]
    },
    {
      "cell_type": "markdown",
      "metadata": {
        "id": "QI6ZFzquTh_R"
      },
      "source": [
        "Compile your model and display the summary:"
      ]
    },
    {
      "cell_type": "code",
      "execution_count": null,
      "metadata": {
        "colab": {
          "base_uri": "https://localhost:8080/"
        },
        "id": "_0PQg-16EpMu",
        "outputId": "b9e70e2e-9ead-4d11-d215-6019b445127c"
      },
      "outputs": [
        {
          "name": "stdout",
          "output_type": "stream",
          "text": [
            "Model: \"sequential_8\"\n",
            "_________________________________________________________________\n",
            " Layer (type)                Output Shape              Param #   \n",
            "=================================================================\n",
            " lstm_32 (LSTM)              (None, 1, 50)             22200     \n",
            "                                                                 \n",
            " dropout_32 (Dropout)        (None, 1, 50)             0         \n",
            "                                                                 \n",
            " lstm_33 (LSTM)              (None, 1, 60)             26640     \n",
            "                                                                 \n",
            " dropout_33 (Dropout)        (None, 1, 60)             0         \n",
            "                                                                 \n",
            " lstm_34 (LSTM)              (None, 1, 80)             45120     \n",
            "                                                                 \n",
            " dropout_34 (Dropout)        (None, 1, 80)             0         \n",
            "                                                                 \n",
            " lstm_35 (LSTM)              (None, 120)               96480     \n",
            "                                                                 \n",
            " dropout_35 (Dropout)        (None, 120)               0         \n",
            "                                                                 \n",
            " dense_8 (Dense)             (None, 1)                 121       \n",
            "                                                                 \n",
            "=================================================================\n",
            "Total params: 190,561\n",
            "Trainable params: 190,561\n",
            "Non-trainable params: 0\n",
            "_________________________________________________________________\n"
          ]
        }
      ],
      "source": [
        "from tensorflow.keras import Sequential\n",
        "from tensorflow.keras.layers import Dense, LSTM, Dropout\n",
        "model = Sequential() \n",
        "model.add(LSTM(units = 50, activation = 'relu', return_sequences = True, input_shape = (X_train.shape[1], 60)))\n",
        "model.add(Dropout(0.2)) \n",
        "model.add(LSTM(units = 60, activation = 'relu', return_sequences = True))\n",
        "model.add(Dropout(0.3)) \n",
        "model.add(LSTM(units = 80, activation = 'relu', return_sequences = True))\n",
        "model.add(Dropout(0.4)) \n",
        "model.add(LSTM(units = 120, activation = 'relu'))\n",
        "model.add(Dropout(0.5)) \n",
        "model.add(Dense(units =1))\n",
        "model.summary()"
      ]
    },
    {
      "cell_type": "code",
      "execution_count": null,
      "metadata": {
        "id": "JBLupFTJEpPA"
      },
      "outputs": [],
      "source": [
        "model.compile(optimizer = 'adam', loss = 'mean_squared_error',metrics=['mean_squared_error'])\n"
      ]
    },
    {
      "cell_type": "code",
      "execution_count": null,
      "metadata": {
        "colab": {
          "base_uri": "https://localhost:8080/"
        },
        "id": "NWvc0Q1qEpRQ",
        "outputId": "dffbe1e5-d5c6-4f24-f199-4e260e1d37d9"
      },
      "outputs": [
        {
          "name": "stdout",
          "output_type": "stream",
          "text": [
            "Epoch 1/20\n",
            "6/6 [==============================] - 7s 171ms/step - loss: 0.0581 - mean_squared_error: 0.0581 - val_loss: 0.1395 - val_mean_squared_error: 0.1395\n",
            "Epoch 2/20\n",
            "6/6 [==============================] - 0s 28ms/step - loss: 0.0533 - mean_squared_error: 0.0533 - val_loss: 0.1252 - val_mean_squared_error: 0.1252\n",
            "Epoch 3/20\n",
            "6/6 [==============================] - 0s 28ms/step - loss: 0.0479 - mean_squared_error: 0.0479 - val_loss: 0.1078 - val_mean_squared_error: 0.1078\n",
            "Epoch 4/20\n",
            "6/6 [==============================] - 0s 31ms/step - loss: 0.0420 - mean_squared_error: 0.0420 - val_loss: 0.0836 - val_mean_squared_error: 0.0836\n",
            "Epoch 5/20\n",
            "6/6 [==============================] - 0s 30ms/step - loss: 0.0333 - mean_squared_error: 0.0333 - val_loss: 0.0448 - val_mean_squared_error: 0.0448\n",
            "Epoch 6/20\n",
            "6/6 [==============================] - 0s 27ms/step - loss: 0.0226 - mean_squared_error: 0.0226 - val_loss: 0.0061 - val_mean_squared_error: 0.0061\n",
            "Epoch 7/20\n",
            "6/6 [==============================] - 0s 29ms/step - loss: 0.0190 - mean_squared_error: 0.0190 - val_loss: 0.0139 - val_mean_squared_error: 0.0139\n",
            "Epoch 8/20\n",
            "6/6 [==============================] - 0s 29ms/step - loss: 0.0164 - mean_squared_error: 0.0164 - val_loss: 0.0161 - val_mean_squared_error: 0.0161\n",
            "Epoch 9/20\n",
            "6/6 [==============================] - 0s 33ms/step - loss: 0.0140 - mean_squared_error: 0.0140 - val_loss: 0.0094 - val_mean_squared_error: 0.0094\n",
            "Epoch 10/20\n",
            "6/6 [==============================] - 0s 32ms/step - loss: 0.0129 - mean_squared_error: 0.0129 - val_loss: 0.0118 - val_mean_squared_error: 0.0118\n",
            "Epoch 11/20\n",
            "6/6 [==============================] - 0s 29ms/step - loss: 0.0113 - mean_squared_error: 0.0113 - val_loss: 0.0087 - val_mean_squared_error: 0.0087\n",
            "Epoch 12/20\n",
            "6/6 [==============================] - 0s 28ms/step - loss: 0.0093 - mean_squared_error: 0.0093 - val_loss: 0.0064 - val_mean_squared_error: 0.0064\n",
            "Epoch 13/20\n",
            "6/6 [==============================] - 0s 28ms/step - loss: 0.0085 - mean_squared_error: 0.0085 - val_loss: 0.0069 - val_mean_squared_error: 0.0069\n",
            "Epoch 14/20\n",
            "6/6 [==============================] - 0s 33ms/step - loss: 0.0075 - mean_squared_error: 0.0075 - val_loss: 0.0059 - val_mean_squared_error: 0.0059\n",
            "Epoch 15/20\n",
            "6/6 [==============================] - 0s 31ms/step - loss: 0.0060 - mean_squared_error: 0.0060 - val_loss: 0.0037 - val_mean_squared_error: 0.0037\n",
            "Epoch 16/20\n",
            "6/6 [==============================] - 0s 29ms/step - loss: 0.0059 - mean_squared_error: 0.0059 - val_loss: 0.0047 - val_mean_squared_error: 0.0047\n",
            "Epoch 17/20\n",
            "6/6 [==============================] - 0s 30ms/step - loss: 0.0054 - mean_squared_error: 0.0054 - val_loss: 0.0031 - val_mean_squared_error: 0.0031\n",
            "Epoch 18/20\n",
            "6/6 [==============================] - 0s 32ms/step - loss: 0.0052 - mean_squared_error: 0.0052 - val_loss: 0.0027 - val_mean_squared_error: 0.0027\n",
            "Epoch 19/20\n",
            "6/6 [==============================] - 0s 30ms/step - loss: 0.0052 - mean_squared_error: 0.0052 - val_loss: 0.0036 - val_mean_squared_error: 0.0036\n",
            "Epoch 20/20\n",
            "6/6 [==============================] - 0s 32ms/step - loss: 0.0050 - mean_squared_error: 0.0050 - val_loss: 0.0027 - val_mean_squared_error: 0.0027\n"
          ]
        }
      ],
      "source": [
        "\n",
        "X_train = np.array(X_train)\n",
        "y_train = np.array(y_train)\n",
        "\n",
        "history= model.fit(X_train, y_train, epochs = 20, batch_size =256, validation_split=0.2)\n"
      ]
    },
    {
      "cell_type": "code",
      "execution_count": null,
      "metadata": {
        "colab": {
          "base_uri": "https://localhost:8080/",
          "height": 573
        },
        "id": "j57SZ-7pEpTm",
        "outputId": "d86e0319-b216-4e45-dc4b-16a02cbeef87"
      },
      "outputs": [
        {
          "data": {
            "image/png": "[encoded data removed]",
            "text/plain": [
              "<Figure size 432x288 with 1 Axes>"
            ]
          },
          "metadata": {
            "needs_background": "light"
          },
          "output_type": "display_data"
        },
        {
          "data": {
            "image/png": "[encoded data removed]",
            "text/plain": [
              "<Figure size 432x288 with 1 Axes>"
            ]
          },
          "metadata": {
            "needs_background": "light"
          },
          "output_type": "display_data"
        }
      ],
      "source": [
        "plt.plot(history.history['loss'])\n",
        "plt.plot(history.history['val_loss'])\n",
        "plt.title('Model Loss')\n",
        "plt.ylabel('Loss')\n",
        "plt.xlabel('Epochs')\n",
        "plt.legend(['train', 'test'])\n",
        "plt.show()\n",
        "\n",
        "plt.plot(history.history['mean_squared_error'])\n",
        "plt.plot(history.history['val_mean_squared_error'])\n",
        "plt.title('Model Loss')\n",
        "plt.ylabel('Loss')\n",
        "plt.xlabel('Epochs')\n",
        "plt.legend(['train', 'test'])\n",
        "plt.ylim([0,1])\n",
        "plt.show()"
      ]
    },
    {
      "cell_type": "code",
      "execution_count": null,
      "metadata": {
        "colab": {
          "base_uri": "https://localhost:8080/"
        },
        "id": "6UVNRGQlTh_S",
        "outputId": "b8202e4e-0cf7-4d13-a082-ee43f6177068"
      },
      "outputs": [
        {
          "name": "stdout",
          "output_type": "stream",
          "text": [
            "Model: \"sequential_9\"\n",
            "_________________________________________________________________\n",
            " Layer (type)                Output Shape              Param #   \n",
            "=================================================================\n",
            " lstm_36 (LSTM)              (None, 1, 50)             22200     \n",
            "                                                                 \n",
            " dropout_36 (Dropout)        (None, 1, 50)             0         \n",
            "                                                                 \n",
            " lstm_37 (LSTM)              (None, 1, 60)             26640     \n",
            "                                                                 \n",
            " dropout_37 (Dropout)        (None, 1, 60)             0         \n",
            "                                                                 \n",
            " lstm_38 (LSTM)              (None, 1, 80)             45120     \n",
            "                                                                 \n",
            " dropout_38 (Dropout)        (None, 1, 80)             0         \n",
            "                                                                 \n",
            " lstm_39 (LSTM)              (None, 120)               96480     \n",
            "                                                                 \n",
            " dropout_39 (Dropout)        (None, 120)               0         \n",
            "                                                                 \n",
            " dense_9 (Dense)             (None, 1)                 121       \n",
            "                                                                 \n",
            "=================================================================\n",
            "Total params: 190,561\n",
            "Trainable params: 190,561\n",
            "Non-trainable params: 0\n",
            "_________________________________________________________________\n"
          ]
        }
      ],
      "source": [
        "# Build your model\n",
        "\n",
        "### YOUR CODE HERE ###\n",
        "\n",
        "\n",
        "from tensorflow.keras import Sequential\n",
        "from tensorflow.keras.layers import Dense, LSTM, Dropout\n",
        "\n",
        "model = Sequential() \n",
        "model.add(LSTM(units = 50, activation = 'relu', return_sequences = True, input_shape = (X_train.shape[1], 60)))\n",
        "model.add(Dropout(0.2)) \n",
        "model.add(LSTM(units = 60, activation = 'relu', return_sequences = True))\n",
        "model.add(Dropout(0.3)) \n",
        "model.add(LSTM(units = 80, activation = 'relu', return_sequences = True))\n",
        "model.add(Dropout(0.4)) \n",
        "model.add(LSTM(units = 120, activation = 'relu'))\n",
        "model.add(Dropout(0.5)) \n",
        "model.add(Dense(units =1))\n",
        "model.summary()\n",
        "\n",
        "loss = 'mean_squared_error'\n",
        "\n",
        "opt = 'adam'\n",
        "\n",
        "metrics = 'mean_squared_error'\n",
        "\n",
        "model.compile(optimizer = opt, loss = loss,metrics=[metrics])\n",
        "\n",
        "\n",
        "\n"
      ]
    },
    {
      "cell_type": "code",
      "execution_count": null,
      "metadata": {
        "colab": {
          "base_uri": "https://localhost:8080/"
        },
        "id": "Cy6nV7WXTh_S",
        "outputId": "29cedfd3-0e92-4399-bb89-72a340e45940"
      },
      "outputs": [
        {
          "name": "stdout",
          "output_type": "stream",
          "text": [
            "Epoch 1/20\n",
            "6/6 [==============================] - 6s 254ms/step - loss: 0.0581 - mean_squared_error: 0.0581 - val_loss: 0.1390 - val_mean_squared_error: 0.1390\n",
            "Epoch 2/20\n",
            "6/6 [==============================] - 0s 30ms/step - loss: 0.0530 - mean_squared_error: 0.0530 - val_loss: 0.1237 - val_mean_squared_error: 0.1237\n",
            "Epoch 3/20\n",
            "6/6 [==============================] - 0s 33ms/step - loss: 0.0473 - mean_squared_error: 0.0473 - val_loss: 0.1035 - val_mean_squared_error: 0.1035\n",
            "Epoch 4/20\n",
            "6/6 [==============================] - 0s 34ms/step - loss: 0.0395 - mean_squared_error: 0.0395 - val_loss: 0.0723 - val_mean_squared_error: 0.0723\n",
            "Epoch 5/20\n",
            "6/6 [==============================] - 0s 33ms/step - loss: 0.0272 - mean_squared_error: 0.0272 - val_loss: 0.0235 - val_mean_squared_error: 0.0235\n",
            "Epoch 6/20\n",
            "6/6 [==============================] - 0s 32ms/step - loss: 0.0189 - mean_squared_error: 0.0189 - val_loss: 0.0058 - val_mean_squared_error: 0.0058\n",
            "Epoch 7/20\n",
            "6/6 [==============================] - 0s 32ms/step - loss: 0.0181 - mean_squared_error: 0.0181 - val_loss: 0.0181 - val_mean_squared_error: 0.0181\n",
            "Epoch 8/20\n",
            "6/6 [==============================] - 0s 31ms/step - loss: 0.0177 - mean_squared_error: 0.0177 - val_loss: 0.0255 - val_mean_squared_error: 0.0255\n",
            "Epoch 9/20\n",
            "6/6 [==============================] - 0s 31ms/step - loss: 0.0142 - mean_squared_error: 0.0142 - val_loss: 0.0107 - val_mean_squared_error: 0.0107\n",
            "Epoch 10/20\n",
            "6/6 [==============================] - 0s 31ms/step - loss: 0.0126 - mean_squared_error: 0.0126 - val_loss: 0.0074 - val_mean_squared_error: 0.0074\n",
            "Epoch 11/20\n",
            "6/6 [==============================] - 0s 31ms/step - loss: 0.0117 - mean_squared_error: 0.0117 - val_loss: 0.0105 - val_mean_squared_error: 0.0105\n",
            "Epoch 12/20\n",
            "6/6 [==============================] - 0s 28ms/step - loss: 0.0101 - mean_squared_error: 0.0101 - val_loss: 0.0080 - val_mean_squared_error: 0.0080\n",
            "Epoch 13/20\n",
            "6/6 [==============================] - 0s 29ms/step - loss: 0.0089 - mean_squared_error: 0.0089 - val_loss: 0.0064 - val_mean_squared_error: 0.0064\n",
            "Epoch 14/20\n",
            "6/6 [==============================] - 0s 26ms/step - loss: 0.0080 - mean_squared_error: 0.0080 - val_loss: 0.0050 - val_mean_squared_error: 0.0050\n",
            "Epoch 15/20\n",
            "6/6 [==============================] - 0s 32ms/step - loss: 0.0073 - mean_squared_error: 0.0073 - val_loss: 0.0042 - val_mean_squared_error: 0.0042\n",
            "Epoch 16/20\n",
            "6/6 [==============================] - 0s 31ms/step - loss: 0.0060 - mean_squared_error: 0.0060 - val_loss: 0.0038 - val_mean_squared_error: 0.0038\n",
            "Epoch 17/20\n",
            "6/6 [==============================] - 0s 32ms/step - loss: 0.0059 - mean_squared_error: 0.0059 - val_loss: 0.0035 - val_mean_squared_error: 0.0035\n",
            "Epoch 18/20\n",
            "6/6 [==============================] - 0s 28ms/step - loss: 0.0051 - mean_squared_error: 0.0051 - val_loss: 0.0036 - val_mean_squared_error: 0.0036\n",
            "Epoch 19/20\n",
            "6/6 [==============================] - 0s 32ms/step - loss: 0.0048 - mean_squared_error: 0.0048 - val_loss: 0.0025 - val_mean_squared_error: 0.0025\n",
            "Epoch 20/20\n",
            "6/6 [==============================] - 0s 32ms/step - loss: 0.0048 - mean_squared_error: 0.0048 - val_loss: 0.0023 - val_mean_squared_error: 0.0023\n"
          ]
        }
      ],
      "source": [
        "batchsize = 256\n",
        "\n",
        "epochs =  20\n",
        "\n",
        "# Fit model\n",
        "history= model.fit(X_train, y_train, epochs = epochs, batch_size =batchsize, validation_split=0.2)\n"
      ]
    },
    {
      "cell_type": "code",
      "execution_count": null,
      "metadata": {
        "colab": {
          "base_uri": "https://localhost:8080/",
          "height": 573
        },
        "id": "_ymO0e_oTh_S",
        "outputId": "67f6aa9c-41eb-47d6-a820-e8a2c71937ae"
      },
      "outputs": [
        {
          "data": {
            "image/png": "[encoded data removed]",
            "text/plain": [
              "<Figure size 432x288 with 1 Axes>"
            ]
          },
          "metadata": {
            "needs_background": "light"
          },
          "output_type": "display_data"
        },
        {
          "data": {
            "image/png": "[encoded data removed]",
            "text/plain": [
              "<Figure size 432x288 with 1 Axes>"
            ]
          },
          "metadata": {
            "needs_background": "light"
          },
          "output_type": "display_data"
        }
      ],
      "source": [
        "# Plot the Model loss\n",
        "\n",
        "### YOUR CODE HERE ###\n",
        "\n",
        "plt.plot(history.history['loss'])\n",
        "plt.plot(history.history['val_loss'])\n",
        "plt.title('Model Loss')\n",
        "plt.ylabel('Loss')\n",
        "plt.xlabel('Epochs')\n",
        "plt.legend(['train', 'test'])\n",
        "plt.show()\n",
        "\n",
        "plt.plot(history.history['mean_squared_error'])\n",
        "plt.plot(history.history['val_mean_squared_error'])\n",
        "plt.title('Model Loss')\n",
        "plt.ylabel('Loss')\n",
        "plt.xlabel('Epochs')\n",
        "plt.legend(['train', 'test'])\n",
        "plt.ylim([0,1])\n",
        "plt.show()\n"
      ]
    },
    {
      "cell_type": "markdown",
      "metadata": {
        "id": "bZPc1zwFUWmv"
      },
      "source": [
        "### Part d) More Advanced RNN Model (15 points)\n",
        "In this part you will create an RNN model with the number of layers and architerure you prefer. Train it on your training data. You will also plot training and validation loss. Again, use mean squared error as your metric. In this part, you can try different models and use different hyper-parameters and report only the best one."
      ]
    },
    {
      "cell_type": "markdown",
      "metadata": {
        "id": "vsDP4F6RUWmx"
      },
      "source": [
        "Compile your model and display the summary:"
      ]
    },
    {
      "cell_type": "code",
      "execution_count": null,
      "metadata": {
        "colab": {
          "base_uri": "https://localhost:8080/"
        },
        "id": "VJqARE-aUWmx",
        "outputId": "d31d3c4c-8713-4b52-bf5c-93515299a53b"
      },
      "outputs": [
        {
          "name": "stdout",
          "output_type": "stream",
          "text": [
            "Model: \"sequential_10\"\n",
            "_________________________________________________________________\n",
            " Layer (type)                Output Shape              Param #   \n",
            "=================================================================\n",
            " lstm_40 (LSTM)              (None, 1, 512)            1173504   \n",
            "                                                                 \n",
            " dropout_40 (Dropout)        (None, 1, 512)            0         \n",
            "                                                                 \n",
            " lstm_41 (LSTM)              (None, 1, 256)            787456    \n",
            "                                                                 \n",
            " dropout_41 (Dropout)        (None, 1, 256)            0         \n",
            "                                                                 \n",
            " lstm_42 (LSTM)              (None, 1, 128)            197120    \n",
            "                                                                 \n",
            " dropout_42 (Dropout)        (None, 1, 128)            0         \n",
            "                                                                 \n",
            " lstm_43 (LSTM)              (None, 128)               131584    \n",
            "                                                                 \n",
            " dropout_43 (Dropout)        (None, 128)               0         \n",
            "                                                                 \n",
            " dense_10 (Dense)            (None, 1)                 129       \n",
            "                                                                 \n",
            "=================================================================\n",
            "Total params: 2,289,793\n",
            "Trainable params: 2,289,793\n",
            "Non-trainable params: 0\n",
            "_________________________________________________________________\n"
          ]
        }
      ],
      "source": [
        "# Build your model\n",
        "\n",
        "from tensorflow.keras import Sequential\n",
        "from tensorflow.keras.layers import Dense, LSTM, Dropout\n",
        "\n",
        "model = Sequential() \n",
        "model.add(LSTM(units = 512, activation = 'relu', return_sequences = True, input_shape = (X_train.shape[1], 60)))\n",
        "model.add(Dropout(0.2)) \n",
        "model.add(LSTM(units = 256, activation = 'relu', return_sequences = True))\n",
        "model.add(Dropout(0.3)) \n",
        "model.add(LSTM(units = 128, activation = 'relu', return_sequences = True))\n",
        "model.add(Dropout(0.4)) \n",
        "model.add(LSTM(units = 128, activation = 'relu'))\n",
        "model.add(Dropout(0.5)) \n",
        "model.add(Dense(units =1))\n",
        "model.summary()\n",
        "\n",
        "loss = 'mean_squared_error'\n",
        "\n",
        "opt = 'adam'\n",
        "\n",
        "metrics = 'mean_squared_error'\n",
        "\n",
        "model.compile(optimizer = opt, loss = loss,metrics=[metrics])"
      ]
    },
    {
      "cell_type": "code",
      "execution_count": null,
      "metadata": {
        "colab": {
          "base_uri": "https://localhost:8080/"
        },
        "id": "kuloKr8QUWmy",
        "outputId": "8116cc14-7338-4fd8-f9a3-4332dc19058d"
      },
      "outputs": [
        {
          "name": "stdout",
          "output_type": "stream",
          "text": [
            "Epoch 1/20\n",
            "6/6 [==============================] - 7s 272ms/step - loss: 0.0580 - mean_squared_error: 0.0580 - val_loss: 0.1381 - val_mean_squared_error: 0.1381\n",
            "Epoch 2/20\n",
            "6/6 [==============================] - 1s 126ms/step - loss: 0.0516 - mean_squared_error: 0.0516 - val_loss: 0.1139 - val_mean_squared_error: 0.1139\n",
            "Epoch 3/20\n",
            "6/6 [==============================] - 1s 130ms/step - loss: 0.0386 - mean_squared_error: 0.0386 - val_loss: 0.0446 - val_mean_squared_error: 0.0446\n",
            "Epoch 4/20\n",
            "6/6 [==============================] - 1s 127ms/step - loss: 0.0171 - mean_squared_error: 0.0171 - val_loss: 0.0051 - val_mean_squared_error: 0.0051\n",
            "Epoch 5/20\n",
            "6/6 [==============================] - 1s 124ms/step - loss: 0.0134 - mean_squared_error: 0.0134 - val_loss: 0.0202 - val_mean_squared_error: 0.0202\n",
            "Epoch 6/20\n",
            "6/6 [==============================] - 1s 123ms/step - loss: 0.0126 - mean_squared_error: 0.0126 - val_loss: 0.0067 - val_mean_squared_error: 0.0067\n",
            "Epoch 7/20\n",
            "6/6 [==============================] - 1s 127ms/step - loss: 0.0099 - mean_squared_error: 0.0099 - val_loss: 0.0037 - val_mean_squared_error: 0.0037\n",
            "Epoch 8/20\n",
            "6/6 [==============================] - 1s 130ms/step - loss: 0.0082 - mean_squared_error: 0.0082 - val_loss: 0.0080 - val_mean_squared_error: 0.0080\n",
            "Epoch 9/20\n",
            "6/6 [==============================] - 1s 125ms/step - loss: 0.0066 - mean_squared_error: 0.0066 - val_loss: 0.0033 - val_mean_squared_error: 0.0033\n",
            "Epoch 10/20\n",
            "6/6 [==============================] - 1s 128ms/step - loss: 0.0062 - mean_squared_error: 0.0062 - val_loss: 0.0043 - val_mean_squared_error: 0.0043\n",
            "Epoch 11/20\n",
            "6/6 [==============================] - 1s 125ms/step - loss: 0.0054 - mean_squared_error: 0.0054 - val_loss: 0.0029 - val_mean_squared_error: 0.0029\n",
            "Epoch 12/20\n",
            "6/6 [==============================] - 1s 124ms/step - loss: 0.0040 - mean_squared_error: 0.0040 - val_loss: 0.0024 - val_mean_squared_error: 0.0024\n",
            "Epoch 13/20\n",
            "6/6 [==============================] - 1s 132ms/step - loss: 0.0041 - mean_squared_error: 0.0041 - val_loss: 0.0021 - val_mean_squared_error: 0.0021\n",
            "Epoch 14/20\n",
            "6/6 [==============================] - 1s 127ms/step - loss: 0.0033 - mean_squared_error: 0.0033 - val_loss: 0.0016 - val_mean_squared_error: 0.0016\n",
            "Epoch 15/20\n",
            "6/6 [==============================] - 1s 125ms/step - loss: 0.0035 - mean_squared_error: 0.0035 - val_loss: 0.0014 - val_mean_squared_error: 0.0014\n",
            "Epoch 16/20\n",
            "6/6 [==============================] - 1s 129ms/step - loss: 0.0035 - mean_squared_error: 0.0035 - val_loss: 0.0017 - val_mean_squared_error: 0.0017\n",
            "Epoch 17/20\n",
            "6/6 [==============================] - 1s 125ms/step - loss: 0.0030 - mean_squared_error: 0.0030 - val_loss: 0.0012 - val_mean_squared_error: 0.0012\n",
            "Epoch 18/20\n",
            "6/6 [==============================] - 1s 125ms/step - loss: 0.0032 - mean_squared_error: 0.0032 - val_loss: 0.0017 - val_mean_squared_error: 0.0017\n",
            "Epoch 19/20\n",
            "6/6 [==============================] - 1s 129ms/step - loss: 0.0032 - mean_squared_error: 0.0032 - val_loss: 0.0011 - val_mean_squared_error: 0.0011\n",
            "Epoch 20/20\n",
            "6/6 [==============================] - 1s 131ms/step - loss: 0.0030 - mean_squared_error: 0.0030 - val_loss: 0.0013 - val_mean_squared_error: 0.0013\n"
          ]
        }
      ],
      "source": [
        "batchsize = 256\n",
        "\n",
        "epochs =  20\n",
        "\n",
        "# Fit model\n",
        "history= model.fit(X_train, y_train, epochs = epochs, batch_size =batchsize, validation_split=0.2)"
      ]
    },
    {
      "cell_type": "code",
      "execution_count": null,
      "metadata": {
        "colab": {
          "base_uri": "https://localhost:8080/",
          "height": 573
        },
        "id": "WiIh66vMUWmy",
        "outputId": "4c7c4111-5703-4c00-9a5c-8f19c5bb5f00"
      },
      "outputs": [
        {
          "data": {
            "image/png": "[encoded data removed]",
            "text/plain": [
              "<Figure size 432x288 with 1 Axes>"
            ]
          },
          "metadata": {
            "needs_background": "light"
          },
          "output_type": "display_data"
        },
        {
          "data": {
            "image/png": "[encoded data removed]",
            "text/plain": [
              "<Figure size 432x288 with 1 Axes>"
            ]
          },
          "metadata": {
            "needs_background": "light"
          },
          "output_type": "display_data"
        }
      ],
      "source": [
        "# Plot the Model loss\n",
        "\n",
        "### YOUR CODE HERE ###\n",
        "\n",
        "plt.plot(history.history['loss'])\n",
        "plt.plot(history.history['val_loss'])\n",
        "plt.title('Model Loss')\n",
        "plt.ylabel('Loss')\n",
        "plt.xlabel('Epochs')\n",
        "plt.legend(['train', 'test'])\n",
        "plt.show()\n",
        "\n",
        "plt.plot(history.history['mean_squared_error'])\n",
        "plt.plot(history.history['val_mean_squared_error'])\n",
        "plt.title('Model Loss')\n",
        "plt.ylabel('Loss')\n",
        "plt.xlabel('Epochs')\n",
        "plt.legend(['train', 'test'])\n",
        "plt.ylim([0,1])\n",
        "plt.show()\n"
      ]
    },
    {
      "cell_type": "markdown",
      "metadata": {
        "id": "GkDcoN3CUWmy"
      },
      "source": [
        "### Part e) Looking at the Predictions (10 points)\n",
        "Now, Using the final (best) model you trained, show your model's performance on the test set. Plot the model's prediction for Bitcoin Price along with the actual test set prices. Lastly, note how your model's predictions change with your model's architecture and the number of days you \"look back\". Does your model perform better with more \"look back days\" or less. Did adding more layers help? Does your model use dropout or batchnormalization?\n",
        "\n",
        "**Note:** Your model is trained on normalized data. Inorder to transform your model's predictions to the original price range you will likely need to use sklearn's inverse_transform (https://scikit-learn.org/stable/modules/generated/sklearn.preprocessing.StandardScaler.html)"
      ]
    },
    {
      "cell_type": "markdown",
      "metadata": {
        "id": "1to7eXUQNbDd"
      },
      "source": [
        "####**My Answer:** \n",
        "The asnwer will be bellow, but this is a re-implementation of the best model I tested "
      ]
    },
    {
      "cell_type": "code",
      "execution_count": null,
      "metadata": {
        "colab": {
          "base_uri": "https://localhost:8080/"
        },
        "id": "m7dZ2Of1R4kI",
        "outputId": "14c73261-9036-4f59-c9d4-3addeeae85d6"
      },
      "outputs": [
        {
          "name": "stdout",
          "output_type": "stream",
          "text": [
            "Model: \"sequential_11\"\n",
            "_________________________________________________________________\n",
            " Layer (type)                Output Shape              Param #   \n",
            "=================================================================\n",
            " lstm_44 (LSTM)              (None, 1, 512)            1173504   \n",
            "                                                                 \n",
            " dropout_44 (Dropout)        (None, 1, 512)            0         \n",
            "                                                                 \n",
            " lstm_45 (LSTM)              (None, 1, 256)            787456    \n",
            "                                                                 \n",
            " dropout_45 (Dropout)        (None, 1, 256)            0         \n",
            "                                                                 \n",
            " lstm_46 (LSTM)              (None, 1, 128)            197120    \n",
            "                                                                 \n",
            " dropout_46 (Dropout)        (None, 1, 128)            0         \n",
            "                                                                 \n",
            " lstm_47 (LSTM)              (None, 128)               131584    \n",
            "                                                                 \n",
            " dropout_47 (Dropout)        (None, 128)               0         \n",
            "                                                                 \n",
            " dense_11 (Dense)            (None, 1)                 129       \n",
            "                                                                 \n",
            "=================================================================\n",
            "Total params: 2,289,793\n",
            "Trainable params: 2,289,793\n",
            "Non-trainable params: 0\n",
            "_________________________________________________________________\n"
          ]
        }
      ],
      "source": [
        "\n",
        "from tensorflow.keras import Sequential\n",
        "from tensorflow.keras.layers import Dense, LSTM, Dropout\n",
        "\n",
        "model = Sequential() \n",
        "model.add(LSTM(units = 512, activation = 'relu', return_sequences = True, input_shape = (X_train.shape[1], 60)))\n",
        "model.add(Dropout(0.2)) \n",
        "model.add(LSTM(units = 256, activation = 'relu', return_sequences = True))\n",
        "model.add(Dropout(0.3)) \n",
        "model.add(LSTM(units = 128, activation = 'relu', return_sequences = True))\n",
        "model.add(Dropout(0.4)) \n",
        "model.add(LSTM(units = 128, activation = 'relu'))\n",
        "model.add(Dropout(0.5)) \n",
        "model.add(Dense(units =1))\n",
        "model.summary()\n",
        "\n",
        "loss = 'mean_squared_error'\n",
        "\n",
        "opt = 'adam'\n",
        "\n",
        "metrics = 'mean_squared_error'\n",
        "\n",
        "model.compile(optimizer = opt, loss = loss,metrics=[metrics])"
      ]
    },
    {
      "cell_type": "code",
      "execution_count": null,
      "metadata": {
        "colab": {
          "base_uri": "https://localhost:8080/"
        },
        "id": "c27z2EtRHmHJ",
        "outputId": "1b8cc2e5-6aac-4e7c-e647-03c5039815ab"
      },
      "outputs": [
        {
          "name": "stdout",
          "output_type": "stream",
          "text": [
            "Epoch 1/20\n",
            "6/6 [==============================] - 8s 302ms/step - loss: 0.0577 - mean_squared_error: 0.0577 - val_loss: 0.1368 - val_mean_squared_error: 0.1368\n",
            "Epoch 2/20\n",
            "6/6 [==============================] - 1s 137ms/step - loss: 0.0510 - mean_squared_error: 0.0510 - val_loss: 0.1116 - val_mean_squared_error: 0.1116\n",
            "Epoch 3/20\n",
            "6/6 [==============================] - 1s 144ms/step - loss: 0.0369 - mean_squared_error: 0.0369 - val_loss: 0.0439 - val_mean_squared_error: 0.0439\n",
            "Epoch 4/20\n",
            "6/6 [==============================] - 1s 135ms/step - loss: 0.0179 - mean_squared_error: 0.0179 - val_loss: 0.0058 - val_mean_squared_error: 0.0058\n",
            "Epoch 5/20\n",
            "6/6 [==============================] - 1s 138ms/step - loss: 0.0138 - mean_squared_error: 0.0138 - val_loss: 0.0204 - val_mean_squared_error: 0.0204\n",
            "Epoch 6/20\n",
            "6/6 [==============================] - 1s 141ms/step - loss: 0.0124 - mean_squared_error: 0.0124 - val_loss: 0.0058 - val_mean_squared_error: 0.0058\n",
            "Epoch 7/20\n",
            "6/6 [==============================] - 1s 140ms/step - loss: 0.0101 - mean_squared_error: 0.0101 - val_loss: 0.0046 - val_mean_squared_error: 0.0046\n",
            "Epoch 8/20\n",
            "6/6 [==============================] - 1s 144ms/step - loss: 0.0089 - mean_squared_error: 0.0089 - val_loss: 0.0070 - val_mean_squared_error: 0.0070\n",
            "Epoch 9/20\n",
            "6/6 [==============================] - 1s 143ms/step - loss: 0.0070 - mean_squared_error: 0.0070 - val_loss: 0.0033 - val_mean_squared_error: 0.0033\n",
            "Epoch 10/20\n",
            "6/6 [==============================] - 1s 144ms/step - loss: 0.0062 - mean_squared_error: 0.0062 - val_loss: 0.0044 - val_mean_squared_error: 0.0044\n",
            "Epoch 11/20\n",
            "6/6 [==============================] - 1s 140ms/step - loss: 0.0047 - mean_squared_error: 0.0047 - val_loss: 0.0025 - val_mean_squared_error: 0.0025\n",
            "Epoch 12/20\n",
            "6/6 [==============================] - 1s 145ms/step - loss: 0.0048 - mean_squared_error: 0.0048 - val_loss: 0.0024 - val_mean_squared_error: 0.0024\n",
            "Epoch 13/20\n",
            "6/6 [==============================] - 1s 146ms/step - loss: 0.0038 - mean_squared_error: 0.0038 - val_loss: 0.0018 - val_mean_squared_error: 0.0018\n",
            "Epoch 14/20\n",
            "6/6 [==============================] - 1s 141ms/step - loss: 0.0032 - mean_squared_error: 0.0032 - val_loss: 0.0014 - val_mean_squared_error: 0.0014\n",
            "Epoch 15/20\n",
            "6/6 [==============================] - 1s 149ms/step - loss: 0.0033 - mean_squared_error: 0.0033 - val_loss: 0.0012 - val_mean_squared_error: 0.0012\n",
            "Epoch 16/20\n",
            "6/6 [==============================] - 1s 143ms/step - loss: 0.0033 - mean_squared_error: 0.0033 - val_loss: 0.0013 - val_mean_squared_error: 0.0013\n",
            "Epoch 17/20\n",
            "6/6 [==============================] - 1s 140ms/step - loss: 0.0032 - mean_squared_error: 0.0032 - val_loss: 0.0013 - val_mean_squared_error: 0.0013\n",
            "Epoch 18/20\n",
            "6/6 [==============================] - 1s 133ms/step - loss: 0.0026 - mean_squared_error: 0.0026 - val_loss: 0.0012 - val_mean_squared_error: 0.0012\n",
            "Epoch 19/20\n",
            "6/6 [==============================] - 1s 140ms/step - loss: 0.0028 - mean_squared_error: 0.0028 - val_loss: 0.0013 - val_mean_squared_error: 0.0013\n",
            "Epoch 20/20\n",
            "6/6 [==============================] - 1s 134ms/step - loss: 0.0027 - mean_squared_error: 0.0027 - val_loss: 0.0011 - val_mean_squared_error: 0.0011\n"
          ]
        }
      ],
      "source": [
        "batchsize = 256\n",
        "\n",
        "epochs =  20\n",
        "\n",
        "# Fit model\n",
        "history= model.fit(X_train, y_train, epochs = epochs, batch_size =batchsize, validation_split=0.2)"
      ]
    },
    {
      "cell_type": "code",
      "execution_count": null,
      "metadata": {
        "colab": {
          "base_uri": "https://localhost:8080/",
          "height": 573
        },
        "id": "sH9NhkGGHmJh",
        "outputId": "723f8fe6-4015-40c8-cb89-f21b4a53abdb"
      },
      "outputs": [
        {
          "data": {
            "image/png": "[encoded data removed]",
            "text/plain": [
              "<Figure size 432x288 with 1 Axes>"
            ]
          },
          "metadata": {
            "needs_background": "light"
          },
          "output_type": "display_data"
        },
        {
          "data": {
            "image/png": "[encoded data removed]",
            "text/plain": [
              "<Figure size 432x288 with 1 Axes>"
            ]
          },
          "metadata": {
            "needs_background": "light"
          },
          "output_type": "display_data"
        }
      ],
      "source": [
        "# Plot the Model loss\n",
        "\n",
        "### YOUR CODE HERE ###\n",
        "\n",
        "plt.plot(history.history['loss'])\n",
        "plt.plot(history.history['val_loss'])\n",
        "plt.title('Model Loss')\n",
        "plt.ylabel('Loss')\n",
        "plt.xlabel('Epochs')\n",
        "plt.legend(['train', 'test'])\n",
        "plt.show()\n",
        "\n",
        "plt.plot(history.history['mean_squared_error'])\n",
        "plt.plot(history.history['val_mean_squared_error'])\n",
        "plt.title('Model Loss')\n",
        "plt.ylabel('Loss')\n",
        "plt.xlabel('Epochs')\n",
        "plt.legend(['train', 'test'])\n",
        "plt.ylim([0,1])\n",
        "plt.show()\n"
      ]
    },
    {
      "cell_type": "markdown",
      "metadata": {
        "id": "ps8BH-wOH6KE"
      },
      "source": [
        "####**My Answer:** \n",
        "This model gave the best predictions and least loss. I have tested many differnet models, and kept only 2 so I could compare both of them, and give the comparison\\\n",
        "The first model had around 180 thousand parameters and it had huge losses in comparison to the second model that had close to 2.3 million paramertes and was more complex.\\\n",
        "Looking at the graphs, The loss was more smoothe and lesser than the simple RNN, where in the other model, where there is the compelx RNN model, we had a smoother and lesser loss\\\n",
        "I have tested many optimers, and landed on 'adam', and it gave me the best resutls"
      ]
    },
    {
      "cell_type": "markdown",
      "metadata": {
        "id": "fLJDlFbyfmj5"
      },
      "source": [
        "\n",
        "## Question 2: Reuters Topic Classification\n",
        "---\n",
        "We will use the [Reuters newswire](https://keras.io/api/datasets/reuters/) classification dataset, which has text paired with 46 topics as labels. You can see what these labels represent [here](https://martin-thoma.com/nlp-reuters/). You will analyze the text and classify the text into one of the 46 classes. Classes are the defined based on the following list (in the same order):\n",
        ">```\n",
        "['cocoa','grain','veg-oil','earn','acq','wheat','copper',\n",
        "'housing','money-supply','coffee','sugar','trade','reserves',\n",
        "'ship','cotton','carcass','crude','nat-gas','cpi','money-fx',\n",
        "'interest','gnp','meal-feed','alum','oilseed','gold','tin',\n",
        "'strategic-metal','livestock','retail','ipi','iron-steel',\n",
        "'rubber','heat','jobs','lei','bop','zinc','orange',\n",
        "'pet-chem','dlr','gas','silver','wpi','hog','lead']\n",
        "```\n",
        "\n"
      ]
    },
    {
      "cell_type": "markdown",
      "metadata": {
        "id": "NyiOu4LzgAur"
      },
      "source": [
        "### Part a) Processing the Data (5 points)\n",
        "Load the data simply from Keras: https://www.tensorflow.org/api_docs/python/tf/keras/datasets/reuters/load_data.\n",
        "You also need to follow the RNN handout from the class exercise and prepare encoding and decoding functions and any other pre-processing you might find useful.\n",
        "\n",
        "Print 5 examples of news along with their class label. "
      ]
    },
    {
      "cell_type": "code",
      "execution_count": null,
      "metadata": {
        "colab": {
          "base_uri": "https://localhost:8080/"
        },
        "id": "PnzsyAmwvImD",
        "outputId": "783bbce5-6da1-452d-e8d0-6a899494cbbb"
      },
      "outputs": [
        {
          "name": "stdout",
          "output_type": "stream",
          "text": [
            "[1, 27595, 28842, 8, 43, 10, 447, 5, 25, 207, 270, 5, 3095, 111, 16, 369, 186, 90, 67, 7, 89, 5, 19, 102, 6, 19, 124, 15, 90, 67, 84, 22, 482, 26, 7, 48, 4, 49, 8, 864, 39, 209, 154, 6, 151, 6, 83, 11, 15, 22, 155, 11, 15, 7, 48, 9, 4579, 1005, 504, 6, 258, 6, 272, 11, 15, 22, 134, 44, 11, 15, 16, 8, 197, 1245, 90, 67, 52, 29, 209, 30, 32, 132, 6, 109, 15, 17, 12]\n",
            "3\n",
            "[1, 3267, 699, 3434, 2295, 56, 16784, 7511, 9, 56, 3906, 1073, 81, 5, 1198, 57, 366, 737, 132, 20, 4093, 7, 19261, 49, 2295, 13415, 1037, 3267, 699, 3434, 8, 7, 10, 241, 16, 855, 129, 231, 783, 5, 4, 587, 2295, 13415, 30625, 775, 7, 48, 34, 191, 44, 35, 1795, 505, 17, 12]\n",
            "4\n",
            "[1, 53, 12, 284, 15, 14, 272, 26, 53, 959, 32, 818, 15, 14, 272, 26, 39, 684, 70, 11, 14, 12, 3886, 18, 180, 183, 187, 70, 11, 14, 102, 32, 11, 29, 53, 44, 704, 15, 14, 19, 758, 15, 53, 959, 47, 1013, 15, 14, 19, 132, 15, 39, 965, 32, 11, 14, 147, 72, 11, 180, 183, 187, 44, 11, 14, 102, 19, 11, 123, 186, 90, 67, 960, 4, 78, 13, 68, 467, 511, 110, 59, 89, 90, 67, 1390, 55, 2678, 92, 617, 80, 1274, 46, 905, 220, 13, 4, 346, 48, 235, 629, 5, 211, 5, 1118, 7, 11733, 81, 5, 187, 11, 15, 9, 1709, 201, 5, 47, 3615, 18, 478, 4514, 5, 1118, 7, 232, 13051, 71, 5, 160, 63, 11, 9, 26503, 81, 5, 102, 59, 11, 17, 12]\n",
            "3\n",
            "[1, 4, 686, 867, 558, 4, 37, 38, 309, 2276, 465, 893, 3541, 114, 2902, 69, 312, 35, 15, 7, 335, 1679, 21, 25, 3675, 19519, 3498, 58, 69, 68, 493, 5, 25, 465, 377, 2430, 4, 293, 1172, 739, 4379, 8, 7, 1510, 1131, 13, 899, 6, 4, 990, 309, 415, 4519, 6920, 645, 3916, 791, 5, 4379, 75, 8, 24, 10, 1311, 4677, 5, 344, 756, 7, 29700, 231, 9691, 2603, 1413, 43, 509, 43, 68, 327, 5, 14560, 3498, 297, 638, 73, 430, 22, 4, 580, 7, 48, 41, 30, 14021, 136, 4, 344, 298, 4, 580, 40, 344, 5078, 23457, 291, 1488, 10, 3148, 5, 231, 6250, 1308, 5, 8250, 7043, 21, 18776, 1622, 990, 309, 415, 265, 5992, 8945, 1149, 9118, 27677, 4, 344, 9691, 756, 3729, 14560, 4667, 28400, 3249, 28, 10, 2190, 24, 77, 41, 682, 10, 4851, 2048, 7, 4, 5540, 2926, 1598, 22, 370, 5954, 7541, 5, 54, 5232, 1685, 2916, 10, 1571, 946, 60, 51, 3249, 5249, 4, 73, 2135, 669, 4, 580, 64, 10, 4280, 6, 16319, 25, 482, 35, 150, 377, 2430, 7, 10, 21743, 836, 29981, 4730, 6920, 5, 4379, 12711, 16799, 3541, 8, 4, 344, 291, 29693, 298, 4228, 6, 2223, 24, 14560, 41, 343, 430, 210, 6, 3498, 297, 64, 10, 2281, 455, 5, 7003, 125, 222, 17, 12]\n",
            "4\n",
            "[1, 8295, 111, 8, 25, 166, 40, 638, 10, 436, 22, 265, 9, 621, 575, 1080, 4742, 1149, 15874, 6, 438, 8295, 13, 102, 388, 15, 90, 67, 7, 197, 8295, 8, 4, 270, 416, 23, 527, 6, 15874, 4891, 4, 1055, 742, 16, 8, 36, 1480, 6, 2124, 100, 543, 5, 645, 362, 6, 2912, 4, 49, 8, 15874, 976, 124, 20, 5, 8295, 80, 9, 100, 362, 543, 395, 61, 44, 20, 8295, 8, 16, 40, 1276, 42, 1436, 166, 415, 6, 888, 4, 116, 9, 40, 3089, 4, 303, 163, 16, 64, 772, 13, 94, 156, 17, 12]\n",
            "4\n",
            "[1, 4, 37, 38, 309, 213, 349, 1632, 48, 193, 229, 463, 28, 156, 635, 11, 82, 14, 156, 635, 11, 82, 54, 139, 16, 349, 105, 462, 311, 28, 296, 147, 11, 82, 14, 296, 147, 11, 54, 139, 342, 48, 193, 3234, 361, 122, 23, 1332, 28, 318, 942, 11, 82, 14, 318, 942, 11, 82, 54, 139, 122, 7, 105, 462, 23, 349, 28, 296, 767, 11, 82, 14, 296, 767, 11, 54, 139, 342, 229, 162, 7, 48, 193, 55, 408, 28, 258, 557, 11, 82, 14, 196, 557, 11, 82, 54, 139, 162, 7, 105, 462, 55, 349, 28, 191, 968, 11, 82, 14, 191, 785, 11, 54, 139, 17, 12]\n",
            "4\n",
            "[1, 56, 5539, 925, 149, 8, 16, 23, 931, 3875, 25, 116, 5, 165, 15, 10, 67, 13, 12, 12, 11, 5311, 400, 81, 79, 457, 145, 22, 331, 28, 3026, 331, 61, 3609, 2097, 5311, 79, 64, 85, 1863, 84, 22, 44, 6206, 2275, 79, 296, 1384, 157, 5539, 8, 16, 23, 3875, 4, 116, 6, 837, 5311, 6, 3834, 31, 248, 1032, 8757, 4, 1618, 5, 37, 38, 1639, 27, 358, 37, 38, 4716, 9, 6, 9474, 4, 316, 9, 662, 5, 4, 765, 5, 291, 58, 60, 2660, 1067, 136, 4, 384, 292, 270, 120, 17, 12]\n",
            "4\n",
            "[1, 53, 648, 26, 14, 749, 26, 39, 6207, 5466, 14, 4922, 4001, 86, 147, 72, 11, 14, 321, 61, 11, 29, 53, 19, 965, 150, 14, 19, 492, 150, 39, 12, 3200, 3859, 14, 32, 3327, 5756, 86, 251, 59, 11, 14, 193, 47, 11, 123, 48, 1642, 346, 9, 29, 39, 235, 338, 46, 5, 17408, 323, 5, 187, 5532, 15, 9, 4315, 6675, 15, 58, 191, 26, 90, 67, 773, 105, 1642, 346, 9, 29, 39, 235, 46, 7, 17408, 304, 5, 1929, 4016, 15, 9, 4527, 5086, 15, 58, 158, 26, 90, 67, 773, 17, 12]\n",
            "3\n",
            "[1, 178, 53, 321, 26, 14, 948, 26, 178, 39, 44, 2860, 3820, 14, 191, 59, 11, 86, 539, 63, 11, 14, 892, 61, 11, 123, 197, 1245, 258, 44, 11, 15, 58, 462, 26, 53, 14, 597, 61, 11, 15, 58, 19, 942, 15, 53, 105, 39, 633, 472, 927, 53, 46, 22, 710, 220, 851, 2861, 9, 4297, 282, 5, 317, 65, 9, 659, 249, 30144, 196, 47, 11, 428, 410, 61, 59, 20, 22, 10, 29, 254, 17, 12]\n",
            "3\n",
            "[1, 56, 7224, 81, 40, 1175, 174, 19892, 6, 1793, 10, 266, 3315, 5, 1574, 799, 317, 65, 136, 277, 801, 7, 429, 65, 182, 199, 8, 174, 201, 2540, 10, 1806, 5, 401, 20, 1574, 799, 6, 119, 20, 1574, 1075, 136, 10, 277, 498, 120, 31, 7224, 13, 251, 18, 428, 90, 289, 4, 199, 8, 4, 5880, 1806, 23, 124, 20, 799, 317, 6, 482, 20, 1075, 174, 287, 13, 799, 317, 65, 40, 333, 1398, 224, 4, 137, 130, 27294, 356, 8181, 11954, 172, 4, 1150, 3727, 403, 54, 139, 3045, 692, 31, 6473, 5, 799, 1306, 9, 23764, 2735, 17, 12]\n",
            "16\n"
          ]
        }
      ],
      "source": [
        "# Load data\n",
        "\n",
        "### YOUR CODE HERE ###\n",
        "i=0\n",
        "(X, y), (_, _) = tf.keras.datasets.reuters.load_data(\n",
        "    path='reuters.npz', num_words=None, skip_top=0, maxlen=None,\n",
        "    test_split=0.2, seed=113, start_char=1, oov_char=2, index_from=3\n",
        ")\n",
        "for i in range (10):\n",
        "  print(X[i])\n",
        "  print(y[i])"
      ]
    },
    {
      "cell_type": "code",
      "execution_count": null,
      "metadata": {
        "id": "6xkYY6LlO5sS"
      },
      "outputs": [],
      "source": [
        "max_sequence_len = 200\n",
        "def encode_review(review, word_dict, maxlen):\n",
        "  encoded_review = []\n",
        "  for raw_word in review.split(' '):\n",
        "    word = raw_word.strip().strip(string.punctuation).lower()\n",
        "    if word is '' or word is '\\n':\n",
        "      continue\n",
        "    try:\n",
        "      encoded_review.append(word_dict[word])\n",
        "    except KeyError as e:\n",
        "      # raise KeyError(f'{e} not in word dictionary, review not encoded.')\n",
        "      continue\n",
        "  return pad_sequences(np.array(encoded_review).reshape(1,-1), maxlen=maxlen)\n",
        "\n",
        "def decode_review(encoded_review, inverse_word_dict):\n",
        "  sentence = []\n",
        "  for encoded_word in encoded_review:\n",
        "    if encoded_word == 0:\n",
        "      continue\n",
        "    sentence.append(inverse_word_dict[encoded_word])\n",
        "  w = textwrap.TextWrapper(width=120,break_long_words=False,replace_whitespace=False)\n",
        "  return '\\n'.join(w.wrap(' '.join(sentence)))"
      ]
    },
    {
      "cell_type": "code",
      "execution_count": null,
      "metadata": {
        "colab": {
          "base_uri": "https://localhost:8080/"
        },
        "id": "VAX4CsTJNM17",
        "outputId": "abb95b12-e1ff-4e3d-d819-f113d48eb3a4"
      },
      "outputs": [
        {
          "data": {
            "text/plain": [
              "(8982,)"
            ]
          },
          "execution_count": 115,
          "metadata": {},
          "output_type": "execute_result"
        }
      ],
      "source": [
        "X.shape"
      ]
    },
    {
      "cell_type": "markdown",
      "metadata": {
        "id": "YarxnZSMgtrF"
      },
      "source": [
        "### Part b) Data Partitioning (5 points)\n",
        "\n",
        "Split data into train and test sets. Please use 80% for training and 20% for testing. Note that we want to have the same distribution of labels in the training and test set, so you can use stratified train-test split of Keras. See here: https://scikit-learn.org/stable/modules/generated/sklearn.model_selection.train_test_split.html"
      ]
    },
    {
      "cell_type": "code",
      "execution_count": null,
      "metadata": {
        "id": "dM3fOjNG0ybv"
      },
      "outputs": [],
      "source": [
        "### YOUR CODE HERE ###\n",
        "from sklearn.model_selection import train_test_split\n",
        "\n",
        "X_train, X_test, y_train, y_test = train_test_split(X, y, test_size=0.20)\n"
      ]
    },
    {
      "cell_type": "markdown",
      "metadata": {
        "id": "Lp8HvntUTzwW"
      },
      "source": [
        "### Part c) Simple RNN Model (15 points)\n",
        "\n",
        "Create a model using an RNN layer (LSTM or GRU, unidirectional or bidirectional) and train it on your training data. You will also plot training and validation loss and your accuracy metric."
      ]
    },
    {
      "cell_type": "markdown",
      "metadata": {
        "id": "-L2aeGG9KS7w"
      },
      "source": [
        "Compile your model and display the summary:"
      ]
    },
    {
      "cell_type": "code",
      "execution_count": null,
      "metadata": {
        "colab": {
          "base_uri": "https://localhost:8080/"
        },
        "id": "09k-v7zVzUXj",
        "outputId": "7d9477cf-8acd-4b91-8814-4b51107e1b70"
      },
      "outputs": [
        {
          "name": "stdout",
          "output_type": "stream",
          "text": [
            "Model: \"model_7\"\n",
            "_________________________________________________________________\n",
            " Layer (type)                Output Shape              Param #   \n",
            "=================================================================\n",
            " input_8 (InputLayer)        [(None, 1, 1)]            0         \n",
            "                                                                 \n",
            " dense_69 (Dense)            (None, 1, 1024)           2048      \n",
            "                                                                 \n",
            " dense_70 (Dense)            (None, 1, 1024)           1049600   \n",
            "                                                                 \n",
            " dense_71 (Dense)            (None, 1, 512)            524800    \n",
            "                                                                 \n",
            " dense_72 (Dense)            (None, 1, 256)            131328    \n",
            "                                                                 \n",
            " dense_73 (Dense)            (None, 1, 128)            32896     \n",
            "                                                                 \n",
            " dense_74 (Dense)            (None, 1, 64)             8256      \n",
            "                                                                 \n",
            " dense_75 (Dense)            (None, 1, 1)              65        \n",
            "                                                                 \n",
            "=================================================================\n",
            "Total params: 1,748,993\n",
            "Trainable params: 1,748,993\n",
            "Non-trainable params: 0\n",
            "_________________________________________________________________\n"
          ]
        }
      ],
      "source": [
        "# Build your model\n",
        "\n",
        "### YOUR CODE HERE ###\n",
        "from tensorflow.keras.layers import Embedding, Dense, Dropout, Input, LSTM\n",
        "from tensorflow.keras.preprocessing.sequence import pad_sequences\n",
        "\n",
        "# X_train = pad_sequences(X_train, maxlen=(max_sequence_len))\n",
        "\n",
        "\n",
        "\n",
        "input_layer = Input(shape=(1,1))\n",
        "\n",
        "x = Dense(1024, activation='relu')(input_layer)\n",
        "\n",
        "x = Dense(1024, activation='relu')(x)\n",
        "\n",
        "x = Dense(512, activation='relu')(x)\n",
        "\n",
        "x = Dense(256, activation='relu')(x)\n",
        "\n",
        "x = Dense(128, activation='relu')(x)\n",
        "\n",
        "x = Dense(64, activation='relu')(x)\n",
        "\n",
        "x = Dense(1, activation='sigmoid')(x)\n",
        "\n",
        "reuters_model = Model(input_layer, x)\n",
        "\n",
        "\n",
        "loss = tf.keras.losses.BinaryCrossentropy()\n",
        "\n",
        "opt = 'adam'\n",
        "\n",
        "metrics = 'accuracy'\n",
        "\n",
        "reuters_model.compile(loss=loss,\n",
        "              optimizer=opt,\n",
        "              metrics=metrics)\n",
        "\n",
        "reuters_model.summary()"
      ]
    },
    {
      "cell_type": "code",
      "execution_count": null,
      "metadata": {
        "colab": {
          "base_uri": "https://localhost:8080/"
        },
        "id": "z-XJdG44S5Rl",
        "outputId": "d26ac7af-33b5-4353-dc94-b5f86121b61f"
      },
      "outputs": [
        {
          "name": "stdout",
          "output_type": "stream",
          "text": [
            "Model: \"sequential_21\"\n",
            "_________________________________________________________________\n",
            " Layer (type)                Output Shape              Param #   \n",
            "=================================================================\n",
            " lstm_81 (LSTM)              (None, 1, 50)             10400     \n",
            "                                                                 \n",
            " dropout_80 (Dropout)        (None, 1, 50)             0         \n",
            "                                                                 \n",
            " lstm_82 (LSTM)              (None, 1, 60)             26640     \n",
            "                                                                 \n",
            " dropout_81 (Dropout)        (None, 1, 60)             0         \n",
            "                                                                 \n",
            " lstm_83 (LSTM)              (None, 1, 80)             45120     \n",
            "                                                                 \n",
            " dropout_82 (Dropout)        (None, 1, 80)             0         \n",
            "                                                                 \n",
            " lstm_84 (LSTM)              (None, 120)               96480     \n",
            "                                                                 \n",
            " dropout_83 (Dropout)        (None, 120)               0         \n",
            "                                                                 \n",
            " dense_76 (Dense)            (None, 1)                 121       \n",
            "                                                                 \n",
            "=================================================================\n",
            "Total params: 178,761\n",
            "Trainable params: 178,761\n",
            "Non-trainable params: 0\n",
            "_________________________________________________________________\n"
          ]
        }
      ],
      "source": [
        "from tensorflow.keras import Sequential\n",
        "from tensorflow.keras.layers import Dense, LSTM, Dropout\n",
        "\n",
        "reuters_model = Sequential() \n",
        "reuters_model.add(LSTM(units = 50, activation = 'relu', return_sequences = True, input_shape = (1,1)))\n",
        "reuters_model.add(Dropout(0.2)) \n",
        "reuters_model.add(LSTM(units = 60, activation = 'relu', return_sequences = True))\n",
        "reuters_model.add(Dropout(0.3)) \n",
        "reuters_model.add(LSTM(units = 80, activation = 'relu', return_sequences = True))\n",
        "reuters_model.add(Dropout(0.4)) \n",
        "reuters_model.add(LSTM(units = 120, activation = 'relu'))\n",
        "reuters_model.add(Dropout(0.5)) \n",
        "reuters_model.add(Dense(units =1))\n",
        "reuters_model.summary()\n",
        "\n",
        "loss = 'mean_squared_error'\n",
        "\n",
        "opt = 'adam'\n",
        "\n",
        "metrics = 'mean_squared_error'\n",
        "\n",
        "reuters_model.compile(optimizer = opt, loss = loss,metrics=[metrics])"
      ]
    },
    {
      "cell_type": "code",
      "execution_count": null,
      "metadata": {
        "colab": {
          "base_uri": "https://localhost:8080/"
        },
        "id": "mthwaqCrzvM3",
        "outputId": "379cc87c-6e2f-4f5f-ce1e-e7676eacc2ed"
      },
      "outputs": [
        {
          "name": "stdout",
          "output_type": "stream",
          "text": [
            "Epoch 1/10\n",
            "23/23 [==============================] - 6s 54ms/step - loss: 162.8436 - mean_squared_error: 162.8436 - val_loss: 168.0679 - val_mean_squared_error: 168.0679\n",
            "Epoch 2/10\n",
            "23/23 [==============================] - 1s 24ms/step - loss: 144.1819 - mean_squared_error: 144.1819 - val_loss: 89.7512 - val_mean_squared_error: 89.7512\n",
            "Epoch 3/10\n",
            "23/23 [==============================] - 1s 23ms/step - loss: 99.8748 - mean_squared_error: 99.8748 - val_loss: 91.3846 - val_mean_squared_error: 91.3846\n",
            "Epoch 4/10\n",
            "23/23 [==============================] - 1s 24ms/step - loss: 96.8945 - mean_squared_error: 96.8945 - val_loss: 95.7416 - val_mean_squared_error: 95.7416\n",
            "Epoch 5/10\n",
            "23/23 [==============================] - 1s 23ms/step - loss: 95.6827 - mean_squared_error: 95.6827 - val_loss: 93.8317 - val_mean_squared_error: 93.8317\n",
            "Epoch 6/10\n",
            "23/23 [==============================] - 1s 24ms/step - loss: 92.4425 - mean_squared_error: 92.4425 - val_loss: 91.1626 - val_mean_squared_error: 91.1626\n",
            "Epoch 7/10\n",
            "23/23 [==============================] - 1s 23ms/step - loss: 91.8058 - mean_squared_error: 91.8058 - val_loss: 91.5912 - val_mean_squared_error: 91.5912\n",
            "Epoch 8/10\n",
            "23/23 [==============================] - 1s 24ms/step - loss: 90.5790 - mean_squared_error: 90.5790 - val_loss: 90.8944 - val_mean_squared_error: 90.8944\n",
            "Epoch 9/10\n",
            "23/23 [==============================] - 1s 24ms/step - loss: 90.1680 - mean_squared_error: 90.1680 - val_loss: 91.0975 - val_mean_squared_error: 91.0975\n",
            "Epoch 10/10\n",
            "23/23 [==============================] - 1s 24ms/step - loss: 88.4710 - mean_squared_error: 88.4710 - val_loss: 89.7972 - val_mean_squared_error: 89.7972\n"
          ]
        }
      ],
      "source": [
        "batchsize = 256\n",
        "epochs =  20\n",
        "\n",
        "import numpy as np\n",
        "\n",
        "X_train = pad_sequences(X_train, maxlen=(1))\n",
        "\n",
        "# Fit model\n",
        "history = reuters_model.fit(X_train, y_train.reshape(-1,1), batch_size=256, epochs=10, validation_split=0.2, shuffle=True)"
      ]
    },
    {
      "cell_type": "code",
      "execution_count": null,
      "metadata": {
        "colab": {
          "base_uri": "https://localhost:8080/",
          "height": 573
        },
        "id": "6s-b6YLsNKmr",
        "outputId": "33958e01-a01d-408e-b944-1e9943c182ee"
      },
      "outputs": [
        {
          "data": {
            "image/png": "[encoded data removed]",
            "text/plain": [
              "<Figure size 432x288 with 1 Axes>"
            ]
          },
          "metadata": {
            "needs_background": "light"
          },
          "output_type": "display_data"
        },
        {
          "data": {
            "image/png": "[encoded data removed]",
            "text/plain": [
              "<Figure size 432x288 with 1 Axes>"
            ]
          },
          "metadata": {
            "needs_background": "light"
          },
          "output_type": "display_data"
        }
      ],
      "source": [
        "# Plot the Model loss\n",
        "\n",
        "### YOUR CODE HERE ###\n",
        "\n",
        "plt.plot(history.history['loss'])\n",
        "plt.plot(history.history['val_loss'])\n",
        "plt.title('Model Loss')\n",
        "plt.ylabel('Loss')\n",
        "plt.xlabel('Epochs')\n",
        "plt.legend(['train', 'test'])\n",
        "plt.show()\n",
        "\n",
        "plt.plot(history.history['mean_squared_error'])\n",
        "plt.plot(history.history['val_mean_squared_error'])\n",
        "plt.title('Model loss')\n",
        "plt.ylabel('Loss')\n",
        "plt.xlabel('Epochs')\n",
        "plt.legend(['train', 'test'])\n",
        "plt.ylim([0,1])\n",
        "plt.show()"
      ]
    },
    {
      "cell_type": "markdown",
      "metadata": {
        "id": "-ONEJCKBa384"
      },
      "source": [
        "### Part d) More Advanced RNN Model (15 points)\n",
        "In this part you will create an RNN model with the number of layers and architerure you prefer. Train it on your training data. You will also plot training and validation loss and your metric. In this part, you can try different models and use different hyper-parameters and report only the best one."
      ]
    },
    {
      "cell_type": "markdown",
      "metadata": {
        "id": "ToO-cZbKa386"
      },
      "source": [
        "Compile your model and display the summary:"
      ]
    },
    {
      "cell_type": "code",
      "execution_count": null,
      "metadata": {
        "colab": {
          "base_uri": "https://localhost:8080/"
        },
        "id": "FOo5_Rp6a386",
        "outputId": "c796606a-ad6c-444e-ec1a-adcc462f2125"
      },
      "outputs": [
        {
          "name": "stdout",
          "output_type": "stream",
          "text": [
            "Model: \"sequential_24\"\n",
            "_________________________________________________________________\n",
            " Layer (type)                Output Shape              Param #   \n",
            "=================================================================\n",
            " lstm_93 (LSTM)              (None, 1, 512)            1052672   \n",
            "                                                                 \n",
            " dropout_92 (Dropout)        (None, 1, 512)            0         \n",
            "                                                                 \n",
            " lstm_94 (LSTM)              (None, 1, 256)            787456    \n",
            "                                                                 \n",
            " dropout_93 (Dropout)        (None, 1, 256)            0         \n",
            "                                                                 \n",
            " lstm_95 (LSTM)              (None, 1, 128)            197120    \n",
            "                                                                 \n",
            " dropout_94 (Dropout)        (None, 1, 128)            0         \n",
            "                                                                 \n",
            " lstm_96 (LSTM)              (None, 128)               131584    \n",
            "                                                                 \n",
            " dropout_95 (Dropout)        (None, 128)               0         \n",
            "                                                                 \n",
            " dense_79 (Dense)            (None, 1)                 129       \n",
            "                                                                 \n",
            "=================================================================\n",
            "Total params: 2,168,961\n",
            "Trainable params: 2,168,961\n",
            "Non-trainable params: 0\n",
            "_________________________________________________________________\n"
          ]
        }
      ],
      "source": [
        "# Build your model\n",
        "\n",
        "### YOUR CODE HERE ###\n",
        "\n",
        "\n",
        "\n",
        "model = Sequential() \n",
        "model.add(LSTM(units = 512, activation = 'relu', return_sequences = True, input_shape = (1,1)))\n",
        "model.add(Dropout(0.2)) \n",
        "model.add(LSTM(units = 256, activation = 'relu', return_sequences = True))\n",
        "model.add(Dropout(0.3)) \n",
        "model.add(LSTM(units = 128, activation = 'relu', return_sequences = True))\n",
        "model.add(Dropout(0.4)) \n",
        "model.add(LSTM(units = 128, activation = 'relu'))\n",
        "model.add(Dropout(0.5)) \n",
        "model.add(Dense(units =1))\n",
        "model.summary()\n",
        "\n",
        "loss = 'mean_squared_error'\n",
        "\n",
        "opt = 'adam'\n",
        "\n",
        "metrics = 'mean_squared_error'\n",
        "\n",
        "model.compile(optimizer = opt, loss = loss,metrics=[metrics])"
      ]
    },
    {
      "cell_type": "code",
      "execution_count": null,
      "metadata": {
        "colab": {
          "base_uri": "https://localhost:8080/"
        },
        "id": "80rNRrDva387",
        "outputId": "7e26f088-5ea1-4610-e456-6c7837aee766"
      },
      "outputs": [
        {
          "name": "stdout",
          "output_type": "stream",
          "text": [
            "Epoch 1/10\n",
            "23/23 [==============================] - 9s 140ms/step - loss: 152.5226 - mean_squared_error: 152.5226 - val_loss: 91.1188 - val_mean_squared_error: 91.1188\n",
            "Epoch 2/10\n",
            "23/23 [==============================] - 3s 109ms/step - loss: 96.8260 - mean_squared_error: 96.8260 - val_loss: 92.1052 - val_mean_squared_error: 92.1052\n",
            "Epoch 3/10\n",
            "23/23 [==============================] - 2s 107ms/step - loss: 89.6411 - mean_squared_error: 89.6411 - val_loss: 91.0372 - val_mean_squared_error: 91.0372\n",
            "Epoch 4/10\n",
            "23/23 [==============================] - 2s 108ms/step - loss: 89.4667 - mean_squared_error: 89.4667 - val_loss: 90.2071 - val_mean_squared_error: 90.2071\n",
            "Epoch 5/10\n",
            "23/23 [==============================] - 2s 107ms/step - loss: 88.9432 - mean_squared_error: 88.9432 - val_loss: 89.6608 - val_mean_squared_error: 89.6608\n",
            "Epoch 6/10\n",
            "23/23 [==============================] - 2s 108ms/step - loss: 88.3883 - mean_squared_error: 88.3883 - val_loss: 90.0561 - val_mean_squared_error: 90.0561\n",
            "Epoch 7/10\n",
            "23/23 [==============================] - 2s 108ms/step - loss: 87.8580 - mean_squared_error: 87.8580 - val_loss: 89.8628 - val_mean_squared_error: 89.8628\n",
            "Epoch 8/10\n",
            "23/23 [==============================] - 2s 106ms/step - loss: 87.5474 - mean_squared_error: 87.5474 - val_loss: 89.9824 - val_mean_squared_error: 89.9824\n",
            "Epoch 9/10\n",
            "23/23 [==============================] - 2s 106ms/step - loss: 87.0201 - mean_squared_error: 87.0201 - val_loss: 89.6966 - val_mean_squared_error: 89.6966\n",
            "Epoch 10/10\n",
            "23/23 [==============================] - 2s 106ms/step - loss: 86.1884 - mean_squared_error: 86.1884 - val_loss: 90.4472 - val_mean_squared_error: 90.4472\n"
          ]
        }
      ],
      "source": [
        "batchsize = 256\n",
        "epochs =  20\n",
        "\n",
        "import numpy as np\n",
        "\n",
        "X_train = pad_sequences(X_train, maxlen=(1))\n",
        "\n",
        "# Fit model\n",
        "history = model.fit(X_train, y_train.reshape(-1,1), batch_size=256, epochs=10, validation_split=0.2, shuffle=True)"
      ]
    },
    {
      "cell_type": "code",
      "execution_count": null,
      "metadata": {
        "colab": {
          "base_uri": "https://localhost:8080/",
          "height": 573
        },
        "id": "8B_BKjzda387",
        "outputId": "b33b1102-807a-4fca-ba9f-fcbfb918f842"
      },
      "outputs": [
        {
          "data": {
            "image/png": "[encoded data removed]",
            "text/plain": [
              "<Figure size 432x288 with 1 Axes>"
            ]
          },
          "metadata": {
            "needs_background": "light"
          },
          "output_type": "display_data"
        },
        {
          "data": {
            "image/png": "[encoded data removed]",
            "text/plain": [
              "<Figure size 432x288 with 1 Axes>"
            ]
          },
          "metadata": {
            "needs_background": "light"
          },
          "output_type": "display_data"
        }
      ],
      "source": [
        "# Plot the Model loss\n",
        "\n",
        "### YOUR CODE HERE ###\n",
        "\n",
        "plt.plot(history.history['loss'])\n",
        "plt.plot(history.history['val_loss'])\n",
        "plt.title('Model Loss')\n",
        "plt.ylabel('Loss')\n",
        "plt.xlabel('Epochs')\n",
        "plt.legend(['train', 'test'])\n",
        "plt.show()\n",
        "\n",
        "plt.plot(history.history['mean_squared_error'])\n",
        "plt.plot(history.history['val_mean_squared_error'])\n",
        "plt.title('Model loss')\n",
        "plt.ylabel('Loss')\n",
        "plt.xlabel('Epochs')\n",
        "plt.legend(['train', 'test'])\n",
        "plt.ylim([0,1])\n",
        "plt.show()"
      ]
    },
    {
      "cell_type": "markdown",
      "metadata": {
        "id": "dc7BEuccYvit"
      },
      "source": [
        "### Part e) Looking at the Predictions (10 points)\n",
        "\n",
        "Now, Using the final (best) model you trained, show your model's performance on the test set.\n",
        "Calculate and display the prediction accuracy for all of the 46 different classes. "
      ]
    },
    {
      "cell_type": "code",
      "execution_count": null,
      "metadata": {
        "colab": {
          "base_uri": "https://localhost:8080/"
        },
        "id": "PyCzORLJELij",
        "outputId": "51be814a-b6be-4af7-d9fc-39d808629e15"
      },
      "outputs": [
        {
          "name": "stdout",
          "output_type": "stream",
          "text": [
            "Model: \"model_8\"\n",
            "_________________________________________________________________\n",
            " Layer (type)                Output Shape              Param #   \n",
            "=================================================================\n",
            " input_9 (InputLayer)        [(None, 1, 1)]            0         \n",
            "                                                                 \n",
            " dense_80 (Dense)            (None, 1, 2048)           4096      \n",
            "                                                                 \n",
            " dense_81 (Dense)            (None, 1, 1024)           2098176   \n",
            "                                                                 \n",
            " dense_82 (Dense)            (None, 1, 512)            524800    \n",
            "                                                                 \n",
            " dense_83 (Dense)            (None, 1, 256)            131328    \n",
            "                                                                 \n",
            " dense_84 (Dense)            (None, 1, 128)            32896     \n",
            "                                                                 \n",
            " dense_85 (Dense)            (None, 1, 64)             8256      \n",
            "                                                                 \n",
            " dense_86 (Dense)            (None, 1, 1)              65        \n",
            "                                                                 \n",
            "=================================================================\n",
            "Total params: 2,799,617\n",
            "Trainable params: 2,799,617\n",
            "Non-trainable params: 0\n",
            "_________________________________________________________________\n"
          ]
        }
      ],
      "source": [
        "\n",
        "input_layer = Input(shape=(1,1))\n",
        "\n",
        "x = Dense(2048, activation='relu')(input_layer)\n",
        "\n",
        "x = Dense(1024, activation='relu')(x)\n",
        "\n",
        "x = Dense(512, activation='relu')(x)\n",
        "\n",
        "x = Dense(256, activation='relu')(x)\n",
        "\n",
        "x = Dense(128, activation='relu')(x)\n",
        "\n",
        "x = Dense(64, activation='relu')(x)\n",
        "\n",
        "x = Dense(1, activation='sigmoid')(x)\n",
        "\n",
        "reuters_model = Model(input_layer, x)\n",
        "\n",
        "\n",
        "loss = tf.keras.losses.BinaryCrossentropy()\n",
        "\n",
        "opt = 'adam'\n",
        "\n",
        "metrics = 'accuracy'\n",
        "\n",
        "reuters_model.compile(loss=loss,\n",
        "              optimizer=opt,\n",
        "              metrics=metrics)\n",
        "\n",
        "reuters_model.summary()"
      ]
    },
    {
      "cell_type": "code",
      "execution_count": null,
      "metadata": {
        "colab": {
          "base_uri": "https://localhost:8080/"
        },
        "id": "fs5LvhrzOgGi",
        "outputId": "4dba61c1-c35b-470c-8165-320a61de5005"
      },
      "outputs": [
        {
          "name": "stdout",
          "output_type": "stream",
          "text": [
            "Model: \"sequential_26\"\n",
            "_________________________________________________________________\n",
            " Layer (type)                Output Shape              Param #   \n",
            "=================================================================\n",
            " lstm_101 (LSTM)             (None, 1, 2048)           16793600  \n",
            "                                                                 \n",
            " dropout_100 (Dropout)       (None, 1, 2048)           0         \n",
            "                                                                 \n",
            " lstm_102 (LSTM)             (None, 1, 1024)           12587008  \n",
            "                                                                 \n",
            " dropout_101 (Dropout)       (None, 1, 1024)           0         \n",
            "                                                                 \n",
            " lstm_103 (LSTM)             (None, 1, 512)            3147776   \n",
            "                                                                 \n",
            " dropout_102 (Dropout)       (None, 1, 512)            0         \n",
            "                                                                 \n",
            " lstm_104 (LSTM)             (None, 256)               787456    \n",
            "                                                                 \n",
            " dropout_103 (Dropout)       (None, 256)               0         \n",
            "                                                                 \n",
            " dense_88 (Dense)            (None, 1)                 257       \n",
            "                                                                 \n",
            "=================================================================\n",
            "Total params: 33,316,097\n",
            "Trainable params: 33,316,097\n",
            "Non-trainable params: 0\n",
            "_________________________________________________________________\n"
          ]
        }
      ],
      "source": [
        "reuters_model = Sequential() \n",
        "reuters_model.add(LSTM(units = 2048, activation = 'relu', return_sequences = True, input_shape = (1,1)))\n",
        "reuters_model.add(Dropout(0.2)) \n",
        "reuters_model.add(LSTM(units = 1024, activation = 'relu', return_sequences = True))\n",
        "reuters_model.add(Dropout(0.3)) \n",
        "reuters_model.add(LSTM(units = 512, activation = 'relu', return_sequences = True))\n",
        "reuters_model.add(Dropout(0.4)) \n",
        "reuters_model.add(LSTM(units = 256, activation = 'relu'))\n",
        "reuters_model.add(Dropout(0.5)) \n",
        "reuters_model.add(Dense(units =1))\n",
        "reuters_model.summary()\n",
        "\n",
        "loss = 'mean_squared_error'\n",
        "\n",
        "opt = 'adam'\n",
        "\n",
        "metrics = 'mean_squared_error'\n",
        "\n",
        "reuters_model.compile(optimizer = opt, loss = loss,metrics=[metrics])"
      ]
    },
    {
      "cell_type": "code",
      "execution_count": null,
      "metadata": {
        "colab": {
          "base_uri": "https://localhost:8080/"
        },
        "id": "c9QN9FCjOgJB",
        "outputId": "28e046d1-cbe2-4e84-c711-da80f3b1b320"
      },
      "outputs": [
        {
          "name": "stdout",
          "output_type": "stream",
          "text": [
            "Epoch 1/20\n",
            "23/23 [==============================] - 36s 1s/step - loss: 121.5805 - mean_squared_error: 121.5805 - val_loss: 90.1956 - val_mean_squared_error: 90.1956\n",
            "Epoch 2/20\n",
            "23/23 [==============================] - 30s 1s/step - loss: 86.5556 - mean_squared_error: 86.5556 - val_loss: 89.7184 - val_mean_squared_error: 89.7184\n",
            "Epoch 3/20\n",
            "23/23 [==============================] - 30s 1s/step - loss: 85.4486 - mean_squared_error: 85.4486 - val_loss: 89.7518 - val_mean_squared_error: 89.7518\n",
            "Epoch 4/20\n",
            "23/23 [==============================] - 31s 1s/step - loss: 86.0943 - mean_squared_error: 86.0943 - val_loss: 90.8390 - val_mean_squared_error: 90.8390\n",
            "Epoch 5/20\n",
            "23/23 [==============================] - 31s 1s/step - loss: 87.0560 - mean_squared_error: 87.0560 - val_loss: 93.9376 - val_mean_squared_error: 93.9376\n",
            "Epoch 6/20\n",
            "23/23 [==============================] - 31s 1s/step - loss: 87.1413 - mean_squared_error: 87.1413 - val_loss: 93.2435 - val_mean_squared_error: 93.2435\n",
            "Epoch 7/20\n",
            "23/23 [==============================] - 31s 1s/step - loss: 86.1204 - mean_squared_error: 86.1204 - val_loss: 89.7426 - val_mean_squared_error: 89.7426\n",
            "Epoch 8/20\n",
            "23/23 [==============================] - 32s 1s/step - loss: 85.8992 - mean_squared_error: 85.8992 - val_loss: 89.9949 - val_mean_squared_error: 89.9949\n",
            "Epoch 9/20\n",
            "23/23 [==============================] - 32s 1s/step - loss: 85.7939 - mean_squared_error: 85.7939 - val_loss: 90.5115 - val_mean_squared_error: 90.5115\n",
            "Epoch 10/20\n",
            "23/23 [==============================] - 31s 1s/step - loss: 85.0881 - mean_squared_error: 85.0881 - val_loss: 89.8356 - val_mean_squared_error: 89.8356\n",
            "Epoch 11/20\n",
            "23/23 [==============================] - 31s 1s/step - loss: 86.1694 - mean_squared_error: 86.1694 - val_loss: 93.4669 - val_mean_squared_error: 93.4669\n",
            "Epoch 12/20\n",
            "23/23 [==============================] - 31s 1s/step - loss: 86.6560 - mean_squared_error: 86.6560 - val_loss: 90.1238 - val_mean_squared_error: 90.1238\n",
            "Epoch 13/20\n",
            "23/23 [==============================] - 31s 1s/step - loss: 85.3194 - mean_squared_error: 85.3194 - val_loss: 89.9078 - val_mean_squared_error: 89.9078\n",
            "Epoch 14/20\n",
            "23/23 [==============================] - 32s 1s/step - loss: 84.7481 - mean_squared_error: 84.7481 - val_loss: 89.9692 - val_mean_squared_error: 89.9692\n",
            "Epoch 15/20\n",
            "23/23 [==============================] - 32s 1s/step - loss: 85.1276 - mean_squared_error: 85.1276 - val_loss: 89.8574 - val_mean_squared_error: 89.8574\n",
            "Epoch 16/20\n",
            "23/23 [==============================] - 31s 1s/step - loss: 85.2648 - mean_squared_error: 85.2648 - val_loss: 89.6393 - val_mean_squared_error: 89.6393\n",
            "Epoch 17/20\n",
            "23/23 [==============================] - 32s 1s/step - loss: 85.2559 - mean_squared_error: 85.2559 - val_loss: 89.6497 - val_mean_squared_error: 89.6497\n",
            "Epoch 18/20\n",
            "23/23 [==============================] - 31s 1s/step - loss: 84.8769 - mean_squared_error: 84.8769 - val_loss: 89.7141 - val_mean_squared_error: 89.7141\n",
            "Epoch 19/20\n",
            "23/23 [==============================] - 32s 1s/step - loss: 85.1423 - mean_squared_error: 85.1423 - val_loss: 89.6649 - val_mean_squared_error: 89.6649\n",
            "Epoch 20/20\n",
            "23/23 [==============================] - 31s 1s/step - loss: 84.8969 - mean_squared_error: 84.8969 - val_loss: 90.1443 - val_mean_squared_error: 90.1443\n"
          ]
        }
      ],
      "source": [
        "batchsize = 256\n",
        "epochs =  20\n",
        "\n",
        "import numpy as np\n",
        "\n",
        "X_train = pad_sequences(X_train, maxlen=(1))\n",
        "\n",
        "# Fit model\n",
        "history = reuters_model.fit(X_train, y_train.reshape(-1,1), batch_size=batchsize, epochs=epochs, validation_split=0.2, shuffle=True)"
      ]
    },
    {
      "cell_type": "code",
      "execution_count": null,
      "metadata": {
        "colab": {
          "base_uri": "https://localhost:8080/",
          "height": 573
        },
        "id": "u2tD77JpOgLb",
        "outputId": "2b67e1a5-87ac-4693-eee4-16b699c4e606"
      },
      "outputs": [
        {
          "data": {
            "image/png": "[encoded data removed]",
            "text/plain": [
              "<Figure size 432x288 with 1 Axes>"
            ]
          },
          "metadata": {
            "needs_background": "light"
          },
          "output_type": "display_data"
        },
        {
          "data": {
            "image/png": "[encoded data removed]",
            "text/plain": [
              "<Figure size 432x288 with 1 Axes>"
            ]
          },
          "metadata": {
            "needs_background": "light"
          },
          "output_type": "display_data"
        }
      ],
      "source": [
        "# Plot the Model loss\n",
        "\n",
        "### YOUR CODE HERE ###\n",
        "\n",
        "plt.plot(history.history['loss'])\n",
        "plt.plot(history.history['val_loss'])\n",
        "plt.title('Model Loss')\n",
        "plt.ylabel('Loss')\n",
        "plt.xlabel('Epochs')\n",
        "plt.legend(['train', 'test'])\n",
        "plt.show()\n",
        "\n",
        "plt.plot(history.history['mean_squared_error'])\n",
        "plt.plot(history.history['val_mean_squared_error'])\n",
        "plt.title('Model loss')\n",
        "plt.ylabel('Loss')\n",
        "plt.xlabel('Epochs')\n",
        "plt.legend(['train', 'test'])\n",
        "plt.ylim([0,1])\n",
        "plt.show()"
      ]
    },
    {
      "cell_type": "code",
      "execution_count": null,
      "metadata": {
        "colab": {
          "base_uri": "https://localhost:8080/"
        },
        "id": "yfKsR_0_OgN-",
        "outputId": "8749c14a-3eec-411b-d913-3b80b3a22602"
      },
      "outputs": [
        {
          "name": "stdout",
          "output_type": "stream",
          "text": [
            "Model: \"model_9\"\n",
            "_________________________________________________________________\n",
            " Layer (type)                Output Shape              Param #   \n",
            "=================================================================\n",
            " input_10 (InputLayer)       [(None, 1, 1)]            0         \n",
            "                                                                 \n",
            " dense_89 (Dense)            (None, 1, 256)            512       \n",
            "                                                                 \n",
            " dense_90 (Dense)            (None, 1, 128)            32896     \n",
            "                                                                 \n",
            " dense_91 (Dense)            (None, 1, 64)             8256      \n",
            "                                                                 \n",
            " dense_92 (Dense)            (None, 1, 32)             2080      \n",
            "                                                                 \n",
            " dense_93 (Dense)            (None, 1, 16)             528       \n",
            "                                                                 \n",
            " dense_94 (Dense)            (None, 1, 8)              136       \n",
            "                                                                 \n",
            " dense_95 (Dense)            (None, 1, 1)              9         \n",
            "                                                                 \n",
            "=================================================================\n",
            "Total params: 44,417\n",
            "Trainable params: 44,417\n",
            "Non-trainable params: 0\n",
            "_________________________________________________________________\n"
          ]
        }
      ],
      "source": [
        "\n",
        "input_layer = Input(shape=(1,1))\n",
        "\n",
        "x = Dense(256, activation='relu')(input_layer)\n",
        "\n",
        "x = Dense(128, activation='relu')(x)\n",
        "\n",
        "x = Dense(64, activation='relu')(x)\n",
        "\n",
        "x = Dense(32, activation='relu')(x)\n",
        "\n",
        "x = Dense(16, activation='relu')(x)\n",
        "\n",
        "x = Dense(8, activation='relu')(x)\n",
        "\n",
        "x = Dense(1, activation='sigmoid')(x)\n",
        "\n",
        "reuters_model = Model(input_layer, x)\n",
        "\n",
        "\n",
        "loss = tf.keras.losses.BinaryCrossentropy()\n",
        "\n",
        "opt = 'adam'\n",
        "\n",
        "metrics = 'accuracy'\n",
        "\n",
        "reuters_model.compile(loss=loss,\n",
        "              optimizer=opt,\n",
        "              metrics=metrics)\n",
        "\n",
        "reuters_model.summary()"
      ]
    },
    {
      "cell_type": "code",
      "execution_count": null,
      "metadata": {
        "colab": {
          "base_uri": "https://localhost:8080/"
        },
        "id": "Dk9nOmFOOgQM",
        "outputId": "da920f8c-1a16-454d-e24d-46be0d6b1498"
      },
      "outputs": [
        {
          "name": "stdout",
          "output_type": "stream",
          "text": [
            "Model: \"sequential_27\"\n",
            "_________________________________________________________________\n",
            " Layer (type)                Output Shape              Param #   \n",
            "=================================================================\n",
            " lstm_105 (LSTM)             (None, 1, 512)            1052672   \n",
            "                                                                 \n",
            " dropout_104 (Dropout)       (None, 1, 512)            0         \n",
            "                                                                 \n",
            " lstm_106 (LSTM)             (None, 1, 256)            787456    \n",
            "                                                                 \n",
            " dropout_105 (Dropout)       (None, 1, 256)            0         \n",
            "                                                                 \n",
            " lstm_107 (LSTM)             (None, 1, 128)            197120    \n",
            "                                                                 \n",
            " dropout_106 (Dropout)       (None, 1, 128)            0         \n",
            "                                                                 \n",
            " lstm_108 (LSTM)             (None, 64)                49408     \n",
            "                                                                 \n",
            " dropout_107 (Dropout)       (None, 64)                0         \n",
            "                                                                 \n",
            " dense_96 (Dense)            (None, 1)                 65        \n",
            "                                                                 \n",
            "=================================================================\n",
            "Total params: 2,086,721\n",
            "Trainable params: 2,086,721\n",
            "Non-trainable params: 0\n",
            "_________________________________________________________________\n"
          ]
        }
      ],
      "source": [
        "reuters_model = Sequential() \n",
        "reuters_model.add(LSTM(units = 512, activation = 'relu', return_sequences = True, input_shape = (1,1)))\n",
        "reuters_model.add(Dropout(0.2)) \n",
        "reuters_model.add(LSTM(units = 256, activation = 'relu', return_sequences = True))\n",
        "reuters_model.add(Dropout(0.3)) \n",
        "reuters_model.add(LSTM(units = 128, activation = 'relu', return_sequences = True))\n",
        "reuters_model.add(Dropout(0.4)) \n",
        "reuters_model.add(LSTM(units = 64, activation = 'relu'))\n",
        "reuters_model.add(Dropout(0.5)) \n",
        "reuters_model.add(Dense(units =1))\n",
        "reuters_model.summary()\n",
        "\n",
        "loss = 'mean_squared_error'\n",
        "\n",
        "opt = 'adam'\n",
        "\n",
        "metrics = 'mean_squared_error'\n",
        "\n",
        "reuters_model.compile(optimizer = opt, loss = loss,metrics=[metrics])"
      ]
    },
    {
      "cell_type": "code",
      "execution_count": null,
      "metadata": {
        "colab": {
          "base_uri": "https://localhost:8080/"
        },
        "id": "gK12T7DXOgRm",
        "outputId": "c116dd71-9ba8-4c90-b8d1-8f0f3d4704fb"
      },
      "outputs": [
        {
          "name": "stdout",
          "output_type": "stream",
          "text": [
            "Epoch 1/20\n",
            "23/23 [==============================] - 9s 144ms/step - loss: 157.8860 - mean_squared_error: 157.8860 - val_loss: 112.6210 - val_mean_squared_error: 112.6210\n",
            "Epoch 2/20\n",
            "23/23 [==============================] - 3s 113ms/step - loss: 96.8432 - mean_squared_error: 96.8432 - val_loss: 94.9620 - val_mean_squared_error: 94.9620\n",
            "Epoch 3/20\n",
            "23/23 [==============================] - 3s 111ms/step - loss: 91.0634 - mean_squared_error: 91.0634 - val_loss: 89.6730 - val_mean_squared_error: 89.6730\n",
            "Epoch 4/20\n",
            "23/23 [==============================] - 3s 112ms/step - loss: 90.7233 - mean_squared_error: 90.7233 - val_loss: 89.6374 - val_mean_squared_error: 89.6374\n",
            "Epoch 5/20\n",
            "23/23 [==============================] - 3s 112ms/step - loss: 89.8600 - mean_squared_error: 89.8600 - val_loss: 90.1376 - val_mean_squared_error: 90.1376\n",
            "Epoch 6/20\n",
            "23/23 [==============================] - 3s 113ms/step - loss: 88.8571 - mean_squared_error: 88.8571 - val_loss: 91.0014 - val_mean_squared_error: 91.0014\n",
            "Epoch 7/20\n",
            "23/23 [==============================] - 3s 113ms/step - loss: 88.9057 - mean_squared_error: 88.9057 - val_loss: 90.0265 - val_mean_squared_error: 90.0265\n",
            "Epoch 8/20\n",
            "23/23 [==============================] - 3s 111ms/step - loss: 88.8186 - mean_squared_error: 88.8186 - val_loss: 91.3064 - val_mean_squared_error: 91.3064\n",
            "Epoch 9/20\n",
            "23/23 [==============================] - 3s 112ms/step - loss: 87.6558 - mean_squared_error: 87.6558 - val_loss: 89.9087 - val_mean_squared_error: 89.9087\n",
            "Epoch 10/20\n",
            "23/23 [==============================] - 3s 113ms/step - loss: 87.5483 - mean_squared_error: 87.5483 - val_loss: 91.6003 - val_mean_squared_error: 91.6003\n",
            "Epoch 11/20\n",
            "23/23 [==============================] - 3s 110ms/step - loss: 88.1493 - mean_squared_error: 88.1493 - val_loss: 89.7161 - val_mean_squared_error: 89.7161\n",
            "Epoch 12/20\n",
            "23/23 [==============================] - 3s 113ms/step - loss: 87.9270 - mean_squared_error: 87.9270 - val_loss: 91.1570 - val_mean_squared_error: 91.1570\n",
            "Epoch 13/20\n",
            "23/23 [==============================] - 3s 112ms/step - loss: 88.0317 - mean_squared_error: 88.0317 - val_loss: 90.3841 - val_mean_squared_error: 90.3841\n",
            "Epoch 14/20\n",
            "23/23 [==============================] - 3s 111ms/step - loss: 87.3738 - mean_squared_error: 87.3738 - val_loss: 90.4658 - val_mean_squared_error: 90.4658\n",
            "Epoch 15/20\n",
            "23/23 [==============================] - 3s 110ms/step - loss: 87.7235 - mean_squared_error: 87.7235 - val_loss: 90.5606 - val_mean_squared_error: 90.5606\n",
            "Epoch 16/20\n",
            "23/23 [==============================] - 3s 109ms/step - loss: 87.1640 - mean_squared_error: 87.1640 - val_loss: 90.7176 - val_mean_squared_error: 90.7176\n",
            "Epoch 17/20\n",
            "23/23 [==============================] - 3s 111ms/step - loss: 87.4987 - mean_squared_error: 87.4987 - val_loss: 89.6352 - val_mean_squared_error: 89.6352\n",
            "Epoch 18/20\n",
            "23/23 [==============================] - 3s 113ms/step - loss: 86.9504 - mean_squared_error: 86.9504 - val_loss: 89.7297 - val_mean_squared_error: 89.7297\n",
            "Epoch 19/20\n",
            "23/23 [==============================] - 3s 110ms/step - loss: 87.0751 - mean_squared_error: 87.0751 - val_loss: 89.9483 - val_mean_squared_error: 89.9483\n",
            "Epoch 20/20\n",
            "23/23 [==============================] - 3s 110ms/step - loss: 87.2057 - mean_squared_error: 87.2057 - val_loss: 90.3362 - val_mean_squared_error: 90.3362\n"
          ]
        }
      ],
      "source": [
        "batchsize = 256\n",
        "epochs =  20\n",
        "\n",
        "import numpy as np\n",
        "\n",
        "X_train = pad_sequences(X_train, maxlen=(1))\n",
        "\n",
        "# Fit model\n",
        "history = reuters_model.fit(X_train, y_train.reshape(-1,1), batch_size=batchsize, epochs=epochs, validation_split=0.2, shuffle=True)"
      ]
    },
    {
      "cell_type": "code",
      "execution_count": null,
      "metadata": {
        "colab": {
          "base_uri": "https://localhost:8080/",
          "height": 573
        },
        "id": "IchfxvBhOgSr",
        "outputId": "79b4ee38-9bb8-4480-bc62-dede4d39a264"
      },
      "outputs": [
        {
          "data": {
            "image/png": "[encoded data removed]",
            "text/plain": [
              "<Figure size 432x288 with 1 Axes>"
            ]
          },
          "metadata": {
            "needs_background": "light"
          },
          "output_type": "display_data"
        },
        {
          "data": {
            "image/png": "[encoded data removed]",
            "text/plain": [
              "<Figure size 432x288 with 1 Axes>"
            ]
          },
          "metadata": {
            "needs_background": "light"
          },
          "output_type": "display_data"
        }
      ],
      "source": [
        "# Plot the Model loss\n",
        "\n",
        "### YOUR CODE HERE ###\n",
        "\n",
        "plt.plot(history.history['loss'])\n",
        "plt.plot(history.history['val_loss'])\n",
        "plt.title('Model Loss')\n",
        "plt.ylabel('Loss')\n",
        "plt.xlabel('Epochs')\n",
        "plt.legend(['train', 'test'])\n",
        "plt.show()\n",
        "\n",
        "plt.plot(history.history['mean_squared_error'])\n",
        "plt.plot(history.history['val_mean_squared_error'])\n",
        "plt.title('Model loss')\n",
        "plt.ylabel('Loss')\n",
        "plt.xlabel('Epochs')\n",
        "plt.legend(['train', 'test'])\n",
        "plt.ylim([0,1])\n",
        "plt.show()"
      ]
    }
  ],
  "metadata": {
    "colab": {
      "collapsed_sections": [],
      "name": "(final) (Abdel) Assignment 5.ipynb",
      "provenance": []
    },
    "kernelspec": {
      "display_name": "Python 3",
      "name": "python3"
    },
    "language_info": {
      "name": "python"
    }
  },
  "nbformat": 4,
  "nbformat_minor": 0
}
